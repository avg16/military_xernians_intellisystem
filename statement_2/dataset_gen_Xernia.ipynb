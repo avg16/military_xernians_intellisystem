{
  "nbformat": 4,
  "nbformat_minor": 0,
  "metadata": {
    "colab": {
      "provenance": []
    },
    "kernelspec": {
      "name": "python3",
      "display_name": "Python 3"
    },
    "language_info": {
      "name": "python"
    }
  },
  "cells": [
    {
      "cell_type": "code",
      "source": [
        "!pip install ctgan"
      ],
      "metadata": {
        "colab": {
          "base_uri": "https://localhost:8080/"
        },
        "id": "2R30umjHlUGK",
        "outputId": "d7752b6e-1058-4edd-c023-2ade0826a4c9"
      },
      "execution_count": 8,
      "outputs": [
        {
          "output_type": "stream",
          "name": "stdout",
          "text": [
            "Requirement already satisfied: ctgan in /usr/local/lib/python3.10/dist-packages (0.10.1)\n",
            "Requirement already satisfied: tqdm<5,>=4.29 in /usr/local/lib/python3.10/dist-packages (from ctgan) (4.66.5)\n",
            "Requirement already satisfied: rdt>=1.11.0 in /usr/local/lib/python3.10/dist-packages (from ctgan) (1.12.4)\n",
            "Requirement already satisfied: pandas>=1.4.0 in /usr/local/lib/python3.10/dist-packages (from ctgan) (2.1.4)\n",
            "Requirement already satisfied: torch>=1.11.0 in /usr/local/lib/python3.10/dist-packages (from ctgan) (2.4.1+cu121)\n",
            "Requirement already satisfied: numpy<2,>=1.23.3 in /usr/local/lib/python3.10/dist-packages (from ctgan) (1.26.4)\n",
            "Requirement already satisfied: python-dateutil>=2.8.2 in /usr/local/lib/python3.10/dist-packages (from pandas>=1.4.0->ctgan) (2.8.2)\n",
            "Requirement already satisfied: pytz>=2020.1 in /usr/local/lib/python3.10/dist-packages (from pandas>=1.4.0->ctgan) (2024.2)\n",
            "Requirement already satisfied: tzdata>=2022.1 in /usr/local/lib/python3.10/dist-packages (from pandas>=1.4.0->ctgan) (2024.1)\n",
            "Requirement already satisfied: Faker>=17 in /usr/local/lib/python3.10/dist-packages (from rdt>=1.11.0->ctgan) (29.0.0)\n",
            "Requirement already satisfied: scikit-learn>=1.1.0 in /usr/local/lib/python3.10/dist-packages (from rdt>=1.11.0->ctgan) (1.3.2)\n",
            "Requirement already satisfied: scipy>=1.9.2 in /usr/local/lib/python3.10/dist-packages (from rdt>=1.11.0->ctgan) (1.13.1)\n",
            "Requirement already satisfied: filelock in /usr/local/lib/python3.10/dist-packages (from torch>=1.11.0->ctgan) (3.16.1)\n",
            "Requirement already satisfied: typing-extensions>=4.8.0 in /usr/local/lib/python3.10/dist-packages (from torch>=1.11.0->ctgan) (4.12.2)\n",
            "Requirement already satisfied: sympy in /usr/local/lib/python3.10/dist-packages (from torch>=1.11.0->ctgan) (1.13.2)\n",
            "Requirement already satisfied: networkx in /usr/local/lib/python3.10/dist-packages (from torch>=1.11.0->ctgan) (3.3)\n",
            "Requirement already satisfied: jinja2 in /usr/local/lib/python3.10/dist-packages (from torch>=1.11.0->ctgan) (3.1.4)\n",
            "Requirement already satisfied: fsspec in /usr/local/lib/python3.10/dist-packages (from torch>=1.11.0->ctgan) (2024.6.1)\n",
            "Requirement already satisfied: six>=1.5 in /usr/local/lib/python3.10/dist-packages (from python-dateutil>=2.8.2->pandas>=1.4.0->ctgan) (1.16.0)\n",
            "Requirement already satisfied: joblib>=1.1.1 in /usr/local/lib/python3.10/dist-packages (from scikit-learn>=1.1.0->rdt>=1.11.0->ctgan) (1.4.2)\n",
            "Requirement already satisfied: threadpoolctl>=2.0.0 in /usr/local/lib/python3.10/dist-packages (from scikit-learn>=1.1.0->rdt>=1.11.0->ctgan) (3.5.0)\n",
            "Requirement already satisfied: MarkupSafe>=2.0 in /usr/local/lib/python3.10/dist-packages (from jinja2->torch>=1.11.0->ctgan) (2.1.5)\n",
            "Requirement already satisfied: mpmath<1.4,>=1.1.0 in /usr/local/lib/python3.10/dist-packages (from sympy->torch>=1.11.0->ctgan) (1.3.0)\n"
          ]
        }
      ]
    },
    {
      "cell_type": "code",
      "source": [
        "import pandas as pd\n",
        "import numpy as np\n",
        "from ctgan import CTGAN\n",
        "from sklearn.preprocessing import MinMaxScaler"
      ],
      "metadata": {
        "id": "g2Tlj6y78q7K"
      },
      "execution_count": 9,
      "outputs": []
    },
    {
      "cell_type": "markdown",
      "source": [
        "## Why CTGAN for synthetic data generation?\n",
        "\n",
        "CTGAN is suitable for our synthetic data generation because it can effectively manage mixed data types (binary, categorical, and continuous) present in our dataset. Its ability to capture complex relationships between variables ensures that the synthetic data maintains the statistical properties of the original records. Additionally, CTGAN allows for conditional generation, which can help create tailored samples based on specific features, enhancing the relevance and realism of the synthetic data we produce."
      ],
      "metadata": {
        "id": "wnQTtk7G9m0N"
      }
    },
    {
      "cell_type": "code",
      "source": [
        "#contains all 36 metrics as well as the soldier name which is kept soldier_0, soldier_1 etc since we do not know their language and how'd they would name their people.\n",
        "def create_empty_betrayal_metrics_df():\n",
        "    columns = [\n",
        "        'soldier_name','familial_history','dependents', 'kin', 'pay_gap', 'risk_last_op', 'active_duty_record', 'served_time', 'off_time', 'current_posting', 'posting_period', 'failure','corruption', 'physical_health', 'injury_type', 'mental_health', 'campaign_count', 'campaign_cause', 'peer_based', 'grievance', 'n_reports', 'complaint_c', 'absents', 'task_sf', 'genb_location', 'genc_location', 'age', 'edu_level', 'previously_c', 'attack','riots','emergency','x_incentives','p_incentives','risk','cultural_change','discipline'\n",
        "    ]\n",
        "    df = pd.DataFrame(columns=columns)\n",
        "    return df"
      ],
      "metadata": {
        "id": "xDo5dBY08tT8"
      },
      "execution_count": 10,
      "outputs": []
    },
    {
      "cell_type": "code",
      "source": [
        "betrayal_df = create_empty_betrayal_metrics_df()"
      ],
      "metadata": {
        "id": "Kmt_YroQ8wh2"
      },
      "execution_count": 11,
      "outputs": []
    },
    {
      "cell_type": "code",
      "source": [
        "#division of columns as per their values it can contain\n",
        "binary_columns = [\n",
        "    'campaign_cause','complaint_c','task_sf','attack','riots','emergency','cultural_change'\n",
        "]\n",
        "\n",
        "continuous_columns = [\n",
        "    'risk', 'discipline','edu_level','mental_health','risk_last_op','active_duty_record','failure'\n",
        "]\n",
        "\n",
        "integer_columns = list(set(betrayal_df.columns) - set(binary_columns) - set(continuous_columns) - {'soldier_name'})"
      ],
      "metadata": {
        "id": "eYRTsEnn8yMn"
      },
      "execution_count": 12,
      "outputs": []
    },
    {
      "cell_type": "code",
      "source": [
        "variable_ranges = {\n",
        "    # Continuous variables with 0-1 range\n",
        "    'risk': (0, 1),\n",
        "    'risk_last_op': (0, 1),\n",
        "    'mental_health': (0, 1),\n",
        "    'edu_level': (0, 1),\n",
        "    'discipline': (0, 1),\n",
        "    'active_duty_record': (0, 1),\n",
        "    'failure': (0, 1),\n",
        "\n",
        "    # Integer variables with specific ranges\n",
        "    'served_time': (0, 50),\n",
        "    'familial_history': (0, 30),\n",
        "    'off_time': (0, 1000),\n",
        "    'current_posting': (0, 11),\n",
        "    'posting_period': (0, 15),\n",
        "    'corruption': (0, 10000),\n",
        "    'physical_health': (0, 1000),\n",
        "    'injury_type': (0, 3),\n",
        "    'campaign_count': (0, 50),\n",
        "    'peer_based': (0, 100),\n",
        "    'grievance': (0, 1000),\n",
        "    'n_reports': (0, 100),\n",
        "    'absents': (0, 100),\n",
        "    'kin': (0, 20),\n",
        "    'dependents': (0, 20),\n",
        "    'pay_gap': (0, 10000),\n",
        "    'genb_location': (0, 500),\n",
        "    'genc_location': (0, 500),\n",
        "    'age': (18, 60),\n",
        "    'previously_c': (0, 100),\n",
        "    'x_incentives': (0, 10000),\n",
        "    'p_incentives': (0, 10000)\n",
        "}\n"
      ],
      "metadata": {
        "id": "LWThkn4e81DT"
      },
      "execution_count": 13,
      "outputs": []
    },
    {
      "cell_type": "code",
      "source": [
        "def generate_random_data(n_samples=1000):\n",
        "    data = []\n",
        "    for _ in range(n_samples):\n",
        "        sample = {}\n",
        "        #binary columns: generate 0 or 1\n",
        "        for col in binary_columns:\n",
        "            sample[col] = np.random.choice([0, 1])\n",
        "\n",
        "        #continuous columns: generate a float between the range 0 and 1\n",
        "        for col in continuous_columns:\n",
        "            sample[col] = np.random.uniform(0, 1)\n",
        "\n",
        "        #integer columns: generate an integer within the specified range\n",
        "        for col in integer_columns:\n",
        "            sample[col] = np.random.randint(variable_ranges[col][0], variable_ranges[col][1] + 1)\n",
        "\n",
        "        sample['soldier_name'] = 'placeholder_name'\n",
        "\n",
        "        data.append(sample)\n",
        "\n",
        "    return pd.DataFrame(data)"
      ],
      "metadata": {
        "id": "YrtIDu9e9AOQ"
      },
      "execution_count": 14,
      "outputs": []
    },
    {
      "cell_type": "code",
      "source": [
        "initial_data = generate_random_data(n_samples=1000)\n",
        "\n",
        "df_train = initial_data.drop(columns=['soldier_name'])"
      ],
      "metadata": {
        "id": "fJfU_Lqv9EaV"
      },
      "execution_count": 15,
      "outputs": []
    },
    {
      "cell_type": "code",
      "source": [
        "#normalising the data\n",
        "scaler = MinMaxScaler()\n",
        "df_train_normalized = pd.DataFrame(scaler.fit_transform(df_train), columns=df_train.columns)"
      ],
      "metadata": {
        "id": "jnTky30P9Hzd"
      },
      "execution_count": 16,
      "outputs": []
    },
    {
      "cell_type": "code",
      "source": [
        "ctgan = CTGAN(epochs=500)\n",
        "ctgan.fit(df_train_normalized)"
      ],
      "metadata": {
        "id": "Gkp4laqB9J0e"
      },
      "execution_count": 17,
      "outputs": []
    },
    {
      "cell_type": "code",
      "source": [
        "synthetic_data_normalized = ctgan.sample(500)"
      ],
      "metadata": {
        "id": "86ebPchu9LYK"
      },
      "execution_count": 18,
      "outputs": []
    },
    {
      "cell_type": "markdown",
      "source": [
        "Denormalizing in CTGAN is essential for the following reasons since\n",
        "\n",
        "synthetic data generated by CTGAN is often normalized to improve training stability. Denormalizing the data restores it to its original scale, making it easier to interpret and use in practical applications\n",
        "\n",
        "Ensures that the generated data accurately reflects the actual value ranges and distributions of the original dataset, enhancing its realism and usability.\n"
      ],
      "metadata": {
        "id": "pB00973JAhDT"
      }
    },
    {
      "cell_type": "code",
      "source": [
        "#denormalising the data\n",
        "synthetic_data = pd.DataFrame(scaler.inverse_transform(synthetic_data_normalized), columns=df_train.columns)"
      ],
      "metadata": {
        "id": "6MTVHTOj9N_g"
      },
      "execution_count": 19,
      "outputs": []
    },
    {
      "cell_type": "markdown",
      "source": [
        "a common challenge when using generative models like CTGAN is that they learn the overall distribution of the data but don't inherently understand hard constraints like minimum and maximum values.\n",
        "\n",
        "so we apply post-processing to the data"
      ],
      "metadata": {
        "id": "JTun-dGeA9ok"
      }
    },
    {
      "cell_type": "code",
      "source": [
        "def clip_to_range(data, ranges):\n",
        "    for col, (min_val, max_val) in ranges.items():\n",
        "        if col in data.columns:\n",
        "            data[col] = data[col].clip(min_val, max_val)\n",
        "    return data\n",
        "\n",
        "for col in binary_columns:\n",
        "    synthetic_data[col] = synthetic_data[col].round().astype(int)\n",
        "\n",
        "synthetic_data = clip_to_range(synthetic_data, variable_ranges)\n",
        "\n",
        "for col in integer_columns:\n",
        "    if col in synthetic_data.columns:\n",
        "        synthetic_data[col] = synthetic_data[col].round().astype(int)\n"
      ],
      "metadata": {
        "id": "mRWQlN4K9Ptb"
      },
      "execution_count": 20,
      "outputs": []
    },
    {
      "cell_type": "code",
      "source": [
        "synthetic_data['soldier_name'] = ['soldier_' + str(i) for i in range(len(synthetic_data))]"
      ],
      "metadata": {
        "id": "rDY0p6dh9SON"
      },
      "execution_count": 21,
      "outputs": []
    },
    {
      "cell_type": "code",
      "source": [
        "#verification of adherence to ranges\n",
        "for col, (min_val, max_val) in variable_ranges.items():\n",
        "    if col in synthetic_data.columns:\n",
        "        actual_min = synthetic_data[col].min()\n",
        "        actual_max = synthetic_data[col].max()\n",
        "        if actual_min < min_val or actual_max > max_val:\n",
        "            print(f\"Warning: {col} has values outside the specified range. Min: {actual_min}, Max: {actual_max}\")"
      ],
      "metadata": {
        "id": "3WaUUV1R3jbR"
      },
      "execution_count": 22,
      "outputs": []
    },
    {
      "cell_type": "code",
      "source": [
        "!pip install skimpy"
      ],
      "metadata": {
        "colab": {
          "base_uri": "https://localhost:8080/"
        },
        "id": "65NzWNkHBres",
        "outputId": "fcbc58c4-6045-4bac-dd00-3699502ad54a"
      },
      "execution_count": 23,
      "outputs": [
        {
          "output_type": "stream",
          "name": "stdout",
          "text": [
            "Collecting skimpy\n",
            "  Downloading skimpy-0.0.15-py3-none-any.whl.metadata (28 kB)\n",
            "Requirement already satisfied: Pygments<3.0.0,>=2.10.0 in /usr/local/lib/python3.10/dist-packages (from skimpy) (2.18.0)\n",
            "Requirement already satisfied: click<9.0.0,>=8.1.6 in /usr/local/lib/python3.10/dist-packages (from skimpy) (8.1.7)\n",
            "Collecting ipykernel<7.0.0,>=6.7.0 (from skimpy)\n",
            "  Downloading ipykernel-6.29.5-py3-none-any.whl.metadata (6.3 kB)\n",
            "Requirement already satisfied: numpy<2.0.0,>=1.22.2 in /usr/local/lib/python3.10/dist-packages (from skimpy) (1.26.4)\n",
            "Requirement already satisfied: pandas<3.0.0,>=2.0.3 in /usr/local/lib/python3.10/dist-packages (from skimpy) (2.1.4)\n",
            "Collecting polars<0.21,>=0.19 (from skimpy)\n",
            "  Downloading polars-0.20.31-cp38-abi3-manylinux_2_17_x86_64.manylinux2014_x86_64.whl.metadata (14 kB)\n",
            "Requirement already satisfied: pyarrow<17,>=13 in /usr/local/lib/python3.10/dist-packages (from skimpy) (14.0.2)\n",
            "Requirement already satisfied: rich<14.0,>=10.9 in /usr/local/lib/python3.10/dist-packages (from skimpy) (13.8.1)\n",
            "Collecting typeguard==4.2.1 (from skimpy)\n",
            "  Downloading typeguard-4.2.1-py3-none-any.whl.metadata (3.7 kB)\n",
            "Requirement already satisfied: typing-extensions>=4.10.0 in /usr/local/lib/python3.10/dist-packages (from typeguard==4.2.1->skimpy) (4.12.2)\n",
            "Collecting comm>=0.1.1 (from ipykernel<7.0.0,>=6.7.0->skimpy)\n",
            "  Downloading comm-0.2.2-py3-none-any.whl.metadata (3.7 kB)\n",
            "Requirement already satisfied: debugpy>=1.6.5 in /usr/local/lib/python3.10/dist-packages (from ipykernel<7.0.0,>=6.7.0->skimpy) (1.6.6)\n",
            "Requirement already satisfied: ipython>=7.23.1 in /usr/local/lib/python3.10/dist-packages (from ipykernel<7.0.0,>=6.7.0->skimpy) (7.34.0)\n",
            "Requirement already satisfied: jupyter-client>=6.1.12 in /usr/local/lib/python3.10/dist-packages (from ipykernel<7.0.0,>=6.7.0->skimpy) (6.1.12)\n",
            "Requirement already satisfied: jupyter-core!=5.0.*,>=4.12 in /usr/local/lib/python3.10/dist-packages (from ipykernel<7.0.0,>=6.7.0->skimpy) (5.7.2)\n",
            "Requirement already satisfied: matplotlib-inline>=0.1 in /usr/local/lib/python3.10/dist-packages (from ipykernel<7.0.0,>=6.7.0->skimpy) (0.1.7)\n",
            "Requirement already satisfied: nest-asyncio in /usr/local/lib/python3.10/dist-packages (from ipykernel<7.0.0,>=6.7.0->skimpy) (1.6.0)\n",
            "Requirement already satisfied: packaging in /usr/local/lib/python3.10/dist-packages (from ipykernel<7.0.0,>=6.7.0->skimpy) (24.1)\n",
            "Requirement already satisfied: psutil in /usr/local/lib/python3.10/dist-packages (from ipykernel<7.0.0,>=6.7.0->skimpy) (5.9.5)\n",
            "Requirement already satisfied: pyzmq>=24 in /usr/local/lib/python3.10/dist-packages (from ipykernel<7.0.0,>=6.7.0->skimpy) (24.0.1)\n",
            "Requirement already satisfied: tornado>=6.1 in /usr/local/lib/python3.10/dist-packages (from ipykernel<7.0.0,>=6.7.0->skimpy) (6.3.3)\n",
            "Requirement already satisfied: traitlets>=5.4.0 in /usr/local/lib/python3.10/dist-packages (from ipykernel<7.0.0,>=6.7.0->skimpy) (5.7.1)\n",
            "Requirement already satisfied: python-dateutil>=2.8.2 in /usr/local/lib/python3.10/dist-packages (from pandas<3.0.0,>=2.0.3->skimpy) (2.8.2)\n",
            "Requirement already satisfied: pytz>=2020.1 in /usr/local/lib/python3.10/dist-packages (from pandas<3.0.0,>=2.0.3->skimpy) (2024.2)\n",
            "Requirement already satisfied: tzdata>=2022.1 in /usr/local/lib/python3.10/dist-packages (from pandas<3.0.0,>=2.0.3->skimpy) (2024.1)\n",
            "Requirement already satisfied: markdown-it-py>=2.2.0 in /usr/local/lib/python3.10/dist-packages (from rich<14.0,>=10.9->skimpy) (3.0.0)\n",
            "Requirement already satisfied: setuptools>=18.5 in /usr/local/lib/python3.10/dist-packages (from ipython>=7.23.1->ipykernel<7.0.0,>=6.7.0->skimpy) (71.0.4)\n",
            "Collecting jedi>=0.16 (from ipython>=7.23.1->ipykernel<7.0.0,>=6.7.0->skimpy)\n",
            "  Using cached jedi-0.19.1-py2.py3-none-any.whl.metadata (22 kB)\n",
            "Requirement already satisfied: decorator in /usr/local/lib/python3.10/dist-packages (from ipython>=7.23.1->ipykernel<7.0.0,>=6.7.0->skimpy) (4.4.2)\n",
            "Requirement already satisfied: pickleshare in /usr/local/lib/python3.10/dist-packages (from ipython>=7.23.1->ipykernel<7.0.0,>=6.7.0->skimpy) (0.7.5)\n",
            "Requirement already satisfied: prompt-toolkit!=3.0.0,!=3.0.1,<3.1.0,>=2.0.0 in /usr/local/lib/python3.10/dist-packages (from ipython>=7.23.1->ipykernel<7.0.0,>=6.7.0->skimpy) (3.0.47)\n",
            "Requirement already satisfied: backcall in /usr/local/lib/python3.10/dist-packages (from ipython>=7.23.1->ipykernel<7.0.0,>=6.7.0->skimpy) (0.2.0)\n",
            "Requirement already satisfied: pexpect>4.3 in /usr/local/lib/python3.10/dist-packages (from ipython>=7.23.1->ipykernel<7.0.0,>=6.7.0->skimpy) (4.9.0)\n",
            "Requirement already satisfied: platformdirs>=2.5 in /usr/local/lib/python3.10/dist-packages (from jupyter-core!=5.0.*,>=4.12->ipykernel<7.0.0,>=6.7.0->skimpy) (4.3.6)\n",
            "Requirement already satisfied: mdurl~=0.1 in /usr/local/lib/python3.10/dist-packages (from markdown-it-py>=2.2.0->rich<14.0,>=10.9->skimpy) (0.1.2)\n",
            "Requirement already satisfied: six>=1.5 in /usr/local/lib/python3.10/dist-packages (from python-dateutil>=2.8.2->pandas<3.0.0,>=2.0.3->skimpy) (1.16.0)\n",
            "Requirement already satisfied: parso<0.9.0,>=0.8.3 in /usr/local/lib/python3.10/dist-packages (from jedi>=0.16->ipython>=7.23.1->ipykernel<7.0.0,>=6.7.0->skimpy) (0.8.4)\n",
            "Requirement already satisfied: ptyprocess>=0.5 in /usr/local/lib/python3.10/dist-packages (from pexpect>4.3->ipython>=7.23.1->ipykernel<7.0.0,>=6.7.0->skimpy) (0.7.0)\n",
            "Requirement already satisfied: wcwidth in /usr/local/lib/python3.10/dist-packages (from prompt-toolkit!=3.0.0,!=3.0.1,<3.1.0,>=2.0.0->ipython>=7.23.1->ipykernel<7.0.0,>=6.7.0->skimpy) (0.2.13)\n",
            "Downloading skimpy-0.0.15-py3-none-any.whl (16 kB)\n",
            "Downloading typeguard-4.2.1-py3-none-any.whl (34 kB)\n",
            "Downloading ipykernel-6.29.5-py3-none-any.whl (117 kB)\n",
            "\u001b[2K   \u001b[90m━━━━━━━━━━━━━━━━━━━━━━━━━━━━━━━━━━━━━━━━\u001b[0m \u001b[32m117.2/117.2 kB\u001b[0m \u001b[31m5.1 MB/s\u001b[0m eta \u001b[36m0:00:00\u001b[0m\n",
            "\u001b[?25hDownloading polars-0.20.31-cp38-abi3-manylinux_2_17_x86_64.manylinux2014_x86_64.whl (28.8 MB)\n",
            "\u001b[2K   \u001b[90m━━━━━━━━━━━━━━━━━━━━━━━━━━━━━━━━━━━━━━━━\u001b[0m \u001b[32m28.8/28.8 MB\u001b[0m \u001b[31m30.4 MB/s\u001b[0m eta \u001b[36m0:00:00\u001b[0m\n",
            "\u001b[?25hDownloading comm-0.2.2-py3-none-any.whl (7.2 kB)\n",
            "Using cached jedi-0.19.1-py2.py3-none-any.whl (1.6 MB)\n",
            "Installing collected packages: typeguard, polars, jedi, comm, ipykernel, skimpy\n",
            "  Attempting uninstall: typeguard\n",
            "    Found existing installation: typeguard 4.3.0\n",
            "    Uninstalling typeguard-4.3.0:\n",
            "      Successfully uninstalled typeguard-4.3.0\n",
            "  Attempting uninstall: polars\n",
            "    Found existing installation: polars 1.6.0\n",
            "    Uninstalling polars-1.6.0:\n",
            "      Successfully uninstalled polars-1.6.0\n",
            "  Attempting uninstall: ipykernel\n",
            "    Found existing installation: ipykernel 5.5.6\n",
            "    Uninstalling ipykernel-5.5.6:\n",
            "      Successfully uninstalled ipykernel-5.5.6\n",
            "\u001b[31mERROR: pip's dependency resolver does not currently take into account all the packages that are installed. This behaviour is the source of the following dependency conflicts.\n",
            "google-colab 1.0.0 requires ipykernel==5.5.6, but you have ipykernel 6.29.5 which is incompatible.\u001b[0m\u001b[31m\n",
            "\u001b[0mSuccessfully installed comm-0.2.2 ipykernel-6.29.5 jedi-0.19.1 polars-0.20.31 skimpy-0.0.15 typeguard-4.2.1\n"
          ]
        }
      ]
    },
    {
      "cell_type": "code",
      "source": [
        "import skimpy as skim\n",
        "\n",
        "skim.skim(synthetic_data)"
      ],
      "metadata": {
        "colab": {
          "base_uri": "https://localhost:8080/",
          "height": 1000
        },
        "id": "16FlBE87BuHT",
        "outputId": "f7e6063a-ad78-4329-8335-b98918d296f0"
      },
      "execution_count": 24,
      "outputs": [
        {
          "output_type": "display_data",
          "data": {
            "text/plain": [
              "╭──────────────────────────────────────────────── skimpy summary ─────────────────────────────────────────────────╮\n",
              "│ \u001b[3m         Data Summary         \u001b[0m \u001b[3m      Data Types       \u001b[0m                                                          │\n",
              "│ ┏━━━━━━━━━━━━━━━━━━━┳━━━━━━━━┓ ┏━━━━━━━━━━━━━┳━━━━━━━┓                                                          │\n",
              "│ ┃\u001b[1;36m \u001b[0m\u001b[1;36mdataframe        \u001b[0m\u001b[1;36m \u001b[0m┃\u001b[1;36m \u001b[0m\u001b[1;36mValues\u001b[0m\u001b[1;36m \u001b[0m┃ ┃\u001b[1;36m \u001b[0m\u001b[1;36mColumn Type\u001b[0m\u001b[1;36m \u001b[0m┃\u001b[1;36m \u001b[0m\u001b[1;36mCount\u001b[0m\u001b[1;36m \u001b[0m┃                                                          │\n",
              "│ ┡━━━━━━━━━━━━━━━━━━━╇━━━━━━━━┩ ┡━━━━━━━━━━━━━╇━━━━━━━┩                                                          │\n",
              "│ │ Number of rows    │ 500    │ │ int64       │ 29    │                                                          │\n",
              "│ │ Number of columns │ 37     │ │ float64     │ 7     │                                                          │\n",
              "│ └───────────────────┴────────┘ │ string      │ 1     │                                                          │\n",
              "│                                └─────────────┴───────┘                                                          │\n",
              "│ \u001b[3m                                                    number                                                    \u001b[0m  │\n",
              "│ ┏━━━━━━━━━━━━━━━━━━━━━━┳━━━━━┳━━━━━━━┳━━━━━━━━━┳━━━━━━━━━┳━━━━━┳━━━━━━━━━━┳━━━━━━━━┳━━━━━━━━┳━━━━━━━┳━━━━━━━━┓  │\n",
              "│ ┃\u001b[1m \u001b[0m\u001b[1mcolumn_name         \u001b[0m\u001b[1m \u001b[0m┃\u001b[1m \u001b[0m\u001b[1mNA \u001b[0m\u001b[1m \u001b[0m┃\u001b[1m \u001b[0m\u001b[1mNA % \u001b[0m\u001b[1m \u001b[0m┃\u001b[1m \u001b[0m\u001b[1mmean   \u001b[0m\u001b[1m \u001b[0m┃\u001b[1m \u001b[0m\u001b[1msd     \u001b[0m\u001b[1m \u001b[0m┃\u001b[1m \u001b[0m\u001b[1mp0 \u001b[0m\u001b[1m \u001b[0m┃\u001b[1m \u001b[0m\u001b[1mp25     \u001b[0m\u001b[1m \u001b[0m┃\u001b[1m \u001b[0m\u001b[1mp50   \u001b[0m\u001b[1m \u001b[0m┃\u001b[1m \u001b[0m\u001b[1mp75   \u001b[0m\u001b[1m \u001b[0m┃\u001b[1m \u001b[0m\u001b[1mp100 \u001b[0m\u001b[1m \u001b[0m┃\u001b[1m \u001b[0m\u001b[1mhist  \u001b[0m\u001b[1m \u001b[0m┃  │\n",
              "│ ┡━━━━━━━━━━━━━━━━━━━━━━╇━━━━━╇━━━━━━━╇━━━━━━━━━╇━━━━━━━━━╇━━━━━╇━━━━━━━━━━╇━━━━━━━━╇━━━━━━━━╇━━━━━━━╇━━━━━━━━┩  │\n",
              "│ │ \u001b[38;5;141mcampaign_cause      \u001b[0m │ \u001b[36m  0\u001b[0m │ \u001b[36m    0\u001b[0m │ \u001b[36m  0.398\u001b[0m │ \u001b[36m   0.49\u001b[0m │ \u001b[36m  0\u001b[0m │ \u001b[36m       0\u001b[0m │ \u001b[36m     0\u001b[0m │ \u001b[36m     1\u001b[0m │ \u001b[36m    1\u001b[0m │ \u001b[32m▇    ▅\u001b[0m │  │\n",
              "│ │ \u001b[38;5;141mcomplaint_c         \u001b[0m │ \u001b[36m  0\u001b[0m │ \u001b[36m    0\u001b[0m │ \u001b[36m  0.516\u001b[0m │ \u001b[36m 0.5002\u001b[0m │ \u001b[36m  0\u001b[0m │ \u001b[36m       0\u001b[0m │ \u001b[36m     1\u001b[0m │ \u001b[36m     1\u001b[0m │ \u001b[36m    1\u001b[0m │ \u001b[32m▇    ▇\u001b[0m │  │\n",
              "│ │ \u001b[38;5;141mtask_sf             \u001b[0m │ \u001b[36m  0\u001b[0m │ \u001b[36m    0\u001b[0m │ \u001b[36m   0.45\u001b[0m │ \u001b[36m  0.498\u001b[0m │ \u001b[36m  0\u001b[0m │ \u001b[36m       0\u001b[0m │ \u001b[36m     0\u001b[0m │ \u001b[36m     1\u001b[0m │ \u001b[36m    1\u001b[0m │ \u001b[32m▇    ▇\u001b[0m │  │\n",
              "│ │ \u001b[38;5;141mattack              \u001b[0m │ \u001b[36m  0\u001b[0m │ \u001b[36m    0\u001b[0m │ \u001b[36m  0.718\u001b[0m │ \u001b[36m 0.4504\u001b[0m │ \u001b[36m  0\u001b[0m │ \u001b[36m       0\u001b[0m │ \u001b[36m     1\u001b[0m │ \u001b[36m     1\u001b[0m │ \u001b[36m    1\u001b[0m │ \u001b[32m▃    ▇\u001b[0m │  │\n",
              "│ │ \u001b[38;5;141mriots               \u001b[0m │ \u001b[36m  0\u001b[0m │ \u001b[36m    0\u001b[0m │ \u001b[36m  0.368\u001b[0m │ \u001b[36m 0.4827\u001b[0m │ \u001b[36m  0\u001b[0m │ \u001b[36m       0\u001b[0m │ \u001b[36m     0\u001b[0m │ \u001b[36m     1\u001b[0m │ \u001b[36m    1\u001b[0m │ \u001b[32m▇    ▅\u001b[0m │  │\n",
              "│ │ \u001b[38;5;141memergency           \u001b[0m │ \u001b[36m  0\u001b[0m │ \u001b[36m    0\u001b[0m │ \u001b[36m  0.658\u001b[0m │ \u001b[36m 0.4749\u001b[0m │ \u001b[36m  0\u001b[0m │ \u001b[36m       0\u001b[0m │ \u001b[36m     1\u001b[0m │ \u001b[36m     1\u001b[0m │ \u001b[36m    1\u001b[0m │ \u001b[32m▅    ▇\u001b[0m │  │\n",
              "│ │ \u001b[38;5;141mcultural_change     \u001b[0m │ \u001b[36m  0\u001b[0m │ \u001b[36m    0\u001b[0m │ \u001b[36m  0.304\u001b[0m │ \u001b[36m 0.4604\u001b[0m │ \u001b[36m  0\u001b[0m │ \u001b[36m       0\u001b[0m │ \u001b[36m     0\u001b[0m │ \u001b[36m     1\u001b[0m │ \u001b[36m    1\u001b[0m │ \u001b[32m▇    ▃\u001b[0m │  │\n",
              "│ │ \u001b[38;5;141mrisk                \u001b[0m │ \u001b[36m  0\u001b[0m │ \u001b[36m    0\u001b[0m │ \u001b[36m 0.5078\u001b[0m │ \u001b[36m 0.3287\u001b[0m │ \u001b[36m  0\u001b[0m │ \u001b[36m  0.1999\u001b[0m │ \u001b[36m0.5686\u001b[0m │ \u001b[36m0.7905\u001b[0m │ \u001b[36m    1\u001b[0m │ \u001b[32m▇▅▃▅▇▇\u001b[0m │  │\n",
              "│ │ \u001b[38;5;141mdiscipline          \u001b[0m │ \u001b[36m  0\u001b[0m │ \u001b[36m    0\u001b[0m │ \u001b[36m 0.6028\u001b[0m │ \u001b[36m 0.3144\u001b[0m │ \u001b[36m  0\u001b[0m │ \u001b[36m  0.3392\u001b[0m │ \u001b[36m0.6579\u001b[0m │ \u001b[36m  0.89\u001b[0m │ \u001b[36m    1\u001b[0m │ \u001b[32m▃▃▃▃▅▇\u001b[0m │  │\n",
              "│ │ \u001b[38;5;141medu_level           \u001b[0m │ \u001b[36m  0\u001b[0m │ \u001b[36m    0\u001b[0m │ \u001b[36m 0.3676\u001b[0m │ \u001b[36m 0.3149\u001b[0m │ \u001b[36m  0\u001b[0m │ \u001b[36m 0.08836\u001b[0m │ \u001b[36m0.2784\u001b[0m │ \u001b[36m0.6536\u001b[0m │ \u001b[36m    1\u001b[0m │ \u001b[32m▇▅▃▂▃▂\u001b[0m │  │\n",
              "│ │ \u001b[38;5;141mmental_health       \u001b[0m │ \u001b[36m  0\u001b[0m │ \u001b[36m    0\u001b[0m │ \u001b[36m 0.4358\u001b[0m │ \u001b[36m 0.3182\u001b[0m │ \u001b[36m  0\u001b[0m │ \u001b[36m  0.1533\u001b[0m │ \u001b[36m0.3835\u001b[0m │ \u001b[36m0.7089\u001b[0m │ \u001b[36m    1\u001b[0m │ \u001b[32m▇▆▃▅▅▅\u001b[0m │  │\n",
              "│ │ \u001b[38;5;141mrisk_last_op        \u001b[0m │ \u001b[36m  0\u001b[0m │ \u001b[36m    0\u001b[0m │ \u001b[36m 0.3564\u001b[0m │ \u001b[36m  0.274\u001b[0m │ \u001b[36m  0\u001b[0m │ \u001b[36m   0.106\u001b[0m │ \u001b[36m  0.32\u001b[0m │ \u001b[36m0.5823\u001b[0m │ \u001b[36m    1\u001b[0m │ \u001b[32m▇▅▅▅▃▁\u001b[0m │  │\n",
              "│ │ \u001b[38;5;141mactive_duty_record  \u001b[0m │ \u001b[36m  0\u001b[0m │ \u001b[36m    0\u001b[0m │ \u001b[36m 0.3791\u001b[0m │ \u001b[36m 0.3262\u001b[0m │ \u001b[36m  0\u001b[0m │ \u001b[36m 0.03087\u001b[0m │ \u001b[36m0.3253\u001b[0m │ \u001b[36m0.6579\u001b[0m │ \u001b[36m    1\u001b[0m │ \u001b[32m▇▃▁▃▃▂\u001b[0m │  │\n",
              "│ │ \u001b[38;5;141mfailure             \u001b[0m │ \u001b[36m  0\u001b[0m │ \u001b[36m    0\u001b[0m │ \u001b[36m 0.6521\u001b[0m │ \u001b[36m 0.2997\u001b[0m │ \u001b[36m  0\u001b[0m │ \u001b[36m  0.3851\u001b[0m │ \u001b[36m0.7068\u001b[0m │ \u001b[36m0.9368\u001b[0m │ \u001b[36m    1\u001b[0m │ \u001b[32m▂▃▃▃▃▇\u001b[0m │  │\n",
              "│ │ \u001b[38;5;141mx_incentives        \u001b[0m │ \u001b[36m  0\u001b[0m │ \u001b[36m    0\u001b[0m │ \u001b[36m   4138\u001b[0m │ \u001b[36m   3085\u001b[0m │ \u001b[36m  0\u001b[0m │ \u001b[36m    1504\u001b[0m │ \u001b[36m  3358\u001b[0m │ \u001b[36m  6882\u001b[0m │ \u001b[36m10000\u001b[0m │ \u001b[32m▇▆▃▃▃▃\u001b[0m │  │\n",
              "│ │ \u001b[38;5;141mcampaign_count      \u001b[0m │ \u001b[36m  0\u001b[0m │ \u001b[36m    0\u001b[0m │ \u001b[36m  18.05\u001b[0m │ \u001b[36m  15.34\u001b[0m │ \u001b[36m  0\u001b[0m │ \u001b[36m       3\u001b[0m │ \u001b[36m    15\u001b[0m │ \u001b[36m    30\u001b[0m │ \u001b[36m   50\u001b[0m │ \u001b[32m▇▃▂▃▂▂\u001b[0m │  │\n",
              "│ │ \u001b[38;5;141mcorruption          \u001b[0m │ \u001b[36m  0\u001b[0m │ \u001b[36m    0\u001b[0m │ \u001b[36m   6057\u001b[0m │ \u001b[36m   3191\u001b[0m │ \u001b[36m  0\u001b[0m │ \u001b[36m    3538\u001b[0m │ \u001b[36m  6518\u001b[0m │ \u001b[36m  8968\u001b[0m │ \u001b[36m10000\u001b[0m │ \u001b[32m▃▃▃▃▅▇\u001b[0m │  │\n",
              "│ │ \u001b[38;5;141mfamilial_history    \u001b[0m │ \u001b[36m  0\u001b[0m │ \u001b[36m    0\u001b[0m │ \u001b[36m  16.94\u001b[0m │ \u001b[36m  9.687\u001b[0m │ \u001b[36m  0\u001b[0m │ \u001b[36m       9\u001b[0m │ \u001b[36m    17\u001b[0m │ \u001b[36m    26\u001b[0m │ \u001b[36m   30\u001b[0m │ \u001b[32m▃▃▅▃▅▇\u001b[0m │  │\n",
              "│ │ \u001b[38;5;141mgrievance           \u001b[0m │ \u001b[36m  0\u001b[0m │ \u001b[36m    0\u001b[0m │ \u001b[36m  412.8\u001b[0m │ \u001b[36m  281.8\u001b[0m │ \u001b[36m  0\u001b[0m │ \u001b[36m     176\u001b[0m │ \u001b[36m   378\u001b[0m │ \u001b[36m 653.5\u001b[0m │ \u001b[36m 1000\u001b[0m │ \u001b[32m▇▇▅▆▆▃\u001b[0m │  │\n",
              "│ │ \u001b[38;5;141mposting_period      \u001b[0m │ \u001b[36m  0\u001b[0m │ \u001b[36m    0\u001b[0m │ \u001b[36m  5.352\u001b[0m │ \u001b[36m  4.552\u001b[0m │ \u001b[36m  0\u001b[0m │ \u001b[36m       1\u001b[0m │ \u001b[36m     4\u001b[0m │ \u001b[36m     9\u001b[0m │ \u001b[36m   15\u001b[0m │ \u001b[32m▇▃▂▃▃▁\u001b[0m │  │\n",
              "│ │ \u001b[38;5;141mage                 \u001b[0m │ \u001b[36m  0\u001b[0m │ \u001b[36m    0\u001b[0m │ \u001b[36m  41.84\u001b[0m │ \u001b[36m  12.77\u001b[0m │ \u001b[36m 18\u001b[0m │ \u001b[36m      31\u001b[0m │ \u001b[36m    44\u001b[0m │ \u001b[36m    53\u001b[0m │ \u001b[36m   60\u001b[0m │ \u001b[32m▃▅▃▅▅▇\u001b[0m │  │\n",
              "│ │ \u001b[38;5;141mdependents          \u001b[0m │ \u001b[36m  0\u001b[0m │ \u001b[36m    0\u001b[0m │ \u001b[36m  7.476\u001b[0m │ \u001b[36m  6.196\u001b[0m │ \u001b[36m  0\u001b[0m │ \u001b[36m       2\u001b[0m │ \u001b[36m     6\u001b[0m │ \u001b[36m    13\u001b[0m │ \u001b[36m   20\u001b[0m │ \u001b[32m▇▃▂▅▃▂\u001b[0m │  │\n",
              "│ │ \u001b[38;5;141mgenb_location       \u001b[0m │ \u001b[36m  0\u001b[0m │ \u001b[36m    0\u001b[0m │ \u001b[36m  174.7\u001b[0m │ \u001b[36m  146.1\u001b[0m │ \u001b[36m  0\u001b[0m │ \u001b[36m      50\u001b[0m │ \u001b[36m   140\u001b[0m │ \u001b[36m 278.2\u001b[0m │ \u001b[36m  500\u001b[0m │ \u001b[32m▇▅▃▃▂▂\u001b[0m │  │\n",
              "│ │ \u001b[38;5;141minjury_type         \u001b[0m │ \u001b[36m  0\u001b[0m │ \u001b[36m    0\u001b[0m │ \u001b[36m  1.626\u001b[0m │ \u001b[36m  0.996\u001b[0m │ \u001b[36m  0\u001b[0m │ \u001b[36m       1\u001b[0m │ \u001b[36m     2\u001b[0m │ \u001b[36m     2\u001b[0m │ \u001b[36m    3\u001b[0m │ \u001b[32m▃ ▂ ▇▃\u001b[0m │  │\n",
              "│ │ \u001b[38;5;141mn_reports           \u001b[0m │ \u001b[36m  0\u001b[0m │ \u001b[36m    0\u001b[0m │ \u001b[36m  49.36\u001b[0m │ \u001b[36m   32.3\u001b[0m │ \u001b[36m  0\u001b[0m │ \u001b[36m      20\u001b[0m │ \u001b[36m    45\u001b[0m │ \u001b[36m    78\u001b[0m │ \u001b[36m  100\u001b[0m │ \u001b[32m▇▇▅▅▆▇\u001b[0m │  │\n",
              "│ │ \u001b[38;5;141mgenc_location       \u001b[0m │ \u001b[36m  0\u001b[0m │ \u001b[36m    0\u001b[0m │ \u001b[36m  190.6\u001b[0m │ \u001b[36m  148.1\u001b[0m │ \u001b[36m  0\u001b[0m │ \u001b[36m   54.75\u001b[0m │ \u001b[36m 175.5\u001b[0m │ \u001b[36m   325\u001b[0m │ \u001b[36m  500\u001b[0m │ \u001b[32m▇▃▃▃▃▂\u001b[0m │  │\n",
              "│ │ \u001b[38;5;141mkin                 \u001b[0m │ \u001b[36m  0\u001b[0m │ \u001b[36m    0\u001b[0m │ \u001b[36m  12.58\u001b[0m │ \u001b[36m  6.459\u001b[0m │ \u001b[36m  0\u001b[0m │ \u001b[36m       7\u001b[0m │ \u001b[36m    14\u001b[0m │ \u001b[36m    19\u001b[0m │ \u001b[36m   20\u001b[0m │ \u001b[32m▃▂▃▃▃▇\u001b[0m │  │\n",
              "│ │ \u001b[38;5;141mabsents             \u001b[0m │ \u001b[36m  0\u001b[0m │ \u001b[36m    0\u001b[0m │ \u001b[36m  57.72\u001b[0m │ \u001b[36m  31.58\u001b[0m │ \u001b[36m  0\u001b[0m │ \u001b[36m      32\u001b[0m │ \u001b[36m    62\u001b[0m │ \u001b[36m    86\u001b[0m │ \u001b[36m  100\u001b[0m │ \u001b[32m▃▃▅▃▅▇\u001b[0m │  │\n",
              "│ │ \u001b[38;5;141mp_incentives        \u001b[0m │ \u001b[36m  0\u001b[0m │ \u001b[36m    0\u001b[0m │ \u001b[36m   6535\u001b[0m │ \u001b[36m   3087\u001b[0m │ \u001b[36m  0\u001b[0m │ \u001b[36m    3817\u001b[0m │ \u001b[36m  7251\u001b[0m │ \u001b[36m  9394\u001b[0m │ \u001b[36m10000\u001b[0m │ \u001b[32m▂▃▂▂▃▇\u001b[0m │  │\n",
              "│ │ \u001b[38;5;141mpay_gap             \u001b[0m │ \u001b[36m  0\u001b[0m │ \u001b[36m    0\u001b[0m │ \u001b[36m   3619\u001b[0m │ \u001b[36m   2937\u001b[0m │ \u001b[36m  0\u001b[0m │ \u001b[36m    1102\u001b[0m │ \u001b[36m  3054\u001b[0m │ \u001b[36m  6164\u001b[0m │ \u001b[36m10000\u001b[0m │ \u001b[32m▇▅▃▃▃▂\u001b[0m │  │\n",
              "│ │ \u001b[38;5;141mphysical_health     \u001b[0m │ \u001b[36m  0\u001b[0m │ \u001b[36m    0\u001b[0m │ \u001b[36m  501.8\u001b[0m │ \u001b[36m  298.2\u001b[0m │ \u001b[36m  0\u001b[0m │ \u001b[36m   250.8\u001b[0m │ \u001b[36m   527\u001b[0m │ \u001b[36m 731.2\u001b[0m │ \u001b[36m 1000\u001b[0m │ \u001b[32m▇▇▅▇▇▇\u001b[0m │  │\n",
              "│ │ \u001b[38;5;141mpeer_based          \u001b[0m │ \u001b[36m  0\u001b[0m │ \u001b[36m    0\u001b[0m │ \u001b[36m  35.83\u001b[0m │ \u001b[36m  30.67\u001b[0m │ \u001b[36m  0\u001b[0m │ \u001b[36m       6\u001b[0m │ \u001b[36m  29.5\u001b[0m │ \u001b[36m    60\u001b[0m │ \u001b[36m  100\u001b[0m │ \u001b[32m▇▃▃▃▂▂\u001b[0m │  │\n",
              "│ │ \u001b[38;5;141mcurrent_posting     \u001b[0m │ \u001b[36m  0\u001b[0m │ \u001b[36m    0\u001b[0m │ \u001b[36m  6.912\u001b[0m │ \u001b[36m  3.545\u001b[0m │ \u001b[36m  0\u001b[0m │ \u001b[36m       4\u001b[0m │ \u001b[36m     8\u001b[0m │ \u001b[36m    10\u001b[0m │ \u001b[36m   11\u001b[0m │ \u001b[32m▂▃▃▃▅▇\u001b[0m │  │\n",
              "│ │ \u001b[38;5;141moff_time            \u001b[0m │ \u001b[36m  0\u001b[0m │ \u001b[36m    0\u001b[0m │ \u001b[36m  440.5\u001b[0m │ \u001b[36m  311.4\u001b[0m │ \u001b[36m  0\u001b[0m │ \u001b[36m     168\u001b[0m │ \u001b[36m   412\u001b[0m │ \u001b[36m 700.5\u001b[0m │ \u001b[36m 1000\u001b[0m │ \u001b[32m▇▅▅▅▃▅\u001b[0m │  │\n",
              "│ │ \u001b[38;5;141mpreviously_c        \u001b[0m │ \u001b[36m  0\u001b[0m │ \u001b[36m    0\u001b[0m │ \u001b[36m  62.74\u001b[0m │ \u001b[36m  31.13\u001b[0m │ \u001b[36m  0\u001b[0m │ \u001b[36m      40\u001b[0m │ \u001b[36m    69\u001b[0m │ \u001b[36m    90\u001b[0m │ \u001b[36m  100\u001b[0m │ \u001b[32m▃▃▃▃▅▇\u001b[0m │  │\n",
              "│ │ \u001b[38;5;141mserved_time         \u001b[0m │ \u001b[36m  0\u001b[0m │ \u001b[36m    0\u001b[0m │ \u001b[36m  27.14\u001b[0m │ \u001b[36m  15.72\u001b[0m │ \u001b[36m  0\u001b[0m │ \u001b[36m      13\u001b[0m │ \u001b[36m  27.5\u001b[0m │ \u001b[36m 41.25\u001b[0m │ \u001b[36m   50\u001b[0m │ \u001b[32m▅▆▅▃▅▇\u001b[0m │  │\n",
              "│ └──────────────────────┴─────┴───────┴─────────┴─────────┴─────┴──────────┴────────┴────────┴───────┴────────┘  │\n",
              "│ \u001b[3m                                                    string                                                    \u001b[0m  │\n",
              "│ ┏━━━━━━━━━━━━━━━━━━━━━━━━━━━━┳━━━━━━━━┳━━━━━━━━━━━━┳━━━━━━━━━━━━━━━━━━━━━━━━━━━━━━┳━━━━━━━━━━━━━━━━━━━━━━━━━━┓  │\n",
              "│ ┃\u001b[1m \u001b[0m\u001b[1mcolumn_name               \u001b[0m\u001b[1m \u001b[0m┃\u001b[1m \u001b[0m\u001b[1mNA    \u001b[0m\u001b[1m \u001b[0m┃\u001b[1m \u001b[0m\u001b[1mNA %      \u001b[0m\u001b[1m \u001b[0m┃\u001b[1m \u001b[0m\u001b[1mwords per row               \u001b[0m\u001b[1m \u001b[0m┃\u001b[1m \u001b[0m\u001b[1mtotal words             \u001b[0m\u001b[1m \u001b[0m┃  │\n",
              "│ ┡━━━━━━━━━━━━━━━━━━━━━━━━━━━━╇━━━━━━━━╇━━━━━━━━━━━━╇━━━━━━━━━━━━━━━━━━━━━━━━━━━━━━╇━━━━━━━━━━━━━━━━━━━━━━━━━━┩  │\n",
              "│ │ \u001b[38;5;141msoldier_name              \u001b[0m │ \u001b[36m     0\u001b[0m │ \u001b[36m         0\u001b[0m │ \u001b[36m                           1\u001b[0m │ \u001b[36m                     500\u001b[0m │  │\n",
              "│ └────────────────────────────┴────────┴────────────┴──────────────────────────────┴──────────────────────────┘  │\n",
              "╰────────────────────────────────────────────────────── End ──────────────────────────────────────────────────────╯\n"
            ],
            "text/html": [
              "<pre style=\"white-space:pre;overflow-x:auto;line-height:normal;font-family:Menlo,'DejaVu Sans Mono',consolas,'Courier New',monospace\">╭──────────────────────────────────────────────── skimpy summary ─────────────────────────────────────────────────╮\n",
              "│ <span style=\"font-style: italic\">         Data Summary         </span> <span style=\"font-style: italic\">      Data Types       </span>                                                          │\n",
              "│ ┏━━━━━━━━━━━━━━━━━━━┳━━━━━━━━┓ ┏━━━━━━━━━━━━━┳━━━━━━━┓                                                          │\n",
              "│ ┃<span style=\"color: #008080; text-decoration-color: #008080; font-weight: bold\"> dataframe         </span>┃<span style=\"color: #008080; text-decoration-color: #008080; font-weight: bold\"> Values </span>┃ ┃<span style=\"color: #008080; text-decoration-color: #008080; font-weight: bold\"> Column Type </span>┃<span style=\"color: #008080; text-decoration-color: #008080; font-weight: bold\"> Count </span>┃                                                          │\n",
              "│ ┡━━━━━━━━━━━━━━━━━━━╇━━━━━━━━┩ ┡━━━━━━━━━━━━━╇━━━━━━━┩                                                          │\n",
              "│ │ Number of rows    │ 500    │ │ int64       │ 29    │                                                          │\n",
              "│ │ Number of columns │ 37     │ │ float64     │ 7     │                                                          │\n",
              "│ └───────────────────┴────────┘ │ string      │ 1     │                                                          │\n",
              "│                                └─────────────┴───────┘                                                          │\n",
              "│ <span style=\"font-style: italic\">                                                    number                                                    </span>  │\n",
              "│ ┏━━━━━━━━━━━━━━━━━━━━━━┳━━━━━┳━━━━━━━┳━━━━━━━━━┳━━━━━━━━━┳━━━━━┳━━━━━━━━━━┳━━━━━━━━┳━━━━━━━━┳━━━━━━━┳━━━━━━━━┓  │\n",
              "│ ┃<span style=\"font-weight: bold\"> column_name          </span>┃<span style=\"font-weight: bold\"> NA  </span>┃<span style=\"font-weight: bold\"> NA %  </span>┃<span style=\"font-weight: bold\"> mean    </span>┃<span style=\"font-weight: bold\"> sd      </span>┃<span style=\"font-weight: bold\"> p0  </span>┃<span style=\"font-weight: bold\"> p25      </span>┃<span style=\"font-weight: bold\"> p50    </span>┃<span style=\"font-weight: bold\"> p75    </span>┃<span style=\"font-weight: bold\"> p100  </span>┃<span style=\"font-weight: bold\"> hist   </span>┃  │\n",
              "│ ┡━━━━━━━━━━━━━━━━━━━━━━╇━━━━━╇━━━━━━━╇━━━━━━━━━╇━━━━━━━━━╇━━━━━╇━━━━━━━━━━╇━━━━━━━━╇━━━━━━━━╇━━━━━━━╇━━━━━━━━┩  │\n",
              "│ │ <span style=\"color: #af87ff; text-decoration-color: #af87ff\">campaign_cause      </span> │ <span style=\"color: #008080; text-decoration-color: #008080\">  0</span> │ <span style=\"color: #008080; text-decoration-color: #008080\">    0</span> │ <span style=\"color: #008080; text-decoration-color: #008080\">  0.398</span> │ <span style=\"color: #008080; text-decoration-color: #008080\">   0.49</span> │ <span style=\"color: #008080; text-decoration-color: #008080\">  0</span> │ <span style=\"color: #008080; text-decoration-color: #008080\">       0</span> │ <span style=\"color: #008080; text-decoration-color: #008080\">     0</span> │ <span style=\"color: #008080; text-decoration-color: #008080\">     1</span> │ <span style=\"color: #008080; text-decoration-color: #008080\">    1</span> │ <span style=\"color: #008000; text-decoration-color: #008000\">▇    ▅</span> │  │\n",
              "│ │ <span style=\"color: #af87ff; text-decoration-color: #af87ff\">complaint_c         </span> │ <span style=\"color: #008080; text-decoration-color: #008080\">  0</span> │ <span style=\"color: #008080; text-decoration-color: #008080\">    0</span> │ <span style=\"color: #008080; text-decoration-color: #008080\">  0.516</span> │ <span style=\"color: #008080; text-decoration-color: #008080\"> 0.5002</span> │ <span style=\"color: #008080; text-decoration-color: #008080\">  0</span> │ <span style=\"color: #008080; text-decoration-color: #008080\">       0</span> │ <span style=\"color: #008080; text-decoration-color: #008080\">     1</span> │ <span style=\"color: #008080; text-decoration-color: #008080\">     1</span> │ <span style=\"color: #008080; text-decoration-color: #008080\">    1</span> │ <span style=\"color: #008000; text-decoration-color: #008000\">▇    ▇</span> │  │\n",
              "│ │ <span style=\"color: #af87ff; text-decoration-color: #af87ff\">task_sf             </span> │ <span style=\"color: #008080; text-decoration-color: #008080\">  0</span> │ <span style=\"color: #008080; text-decoration-color: #008080\">    0</span> │ <span style=\"color: #008080; text-decoration-color: #008080\">   0.45</span> │ <span style=\"color: #008080; text-decoration-color: #008080\">  0.498</span> │ <span style=\"color: #008080; text-decoration-color: #008080\">  0</span> │ <span style=\"color: #008080; text-decoration-color: #008080\">       0</span> │ <span style=\"color: #008080; text-decoration-color: #008080\">     0</span> │ <span style=\"color: #008080; text-decoration-color: #008080\">     1</span> │ <span style=\"color: #008080; text-decoration-color: #008080\">    1</span> │ <span style=\"color: #008000; text-decoration-color: #008000\">▇    ▇</span> │  │\n",
              "│ │ <span style=\"color: #af87ff; text-decoration-color: #af87ff\">attack              </span> │ <span style=\"color: #008080; text-decoration-color: #008080\">  0</span> │ <span style=\"color: #008080; text-decoration-color: #008080\">    0</span> │ <span style=\"color: #008080; text-decoration-color: #008080\">  0.718</span> │ <span style=\"color: #008080; text-decoration-color: #008080\"> 0.4504</span> │ <span style=\"color: #008080; text-decoration-color: #008080\">  0</span> │ <span style=\"color: #008080; text-decoration-color: #008080\">       0</span> │ <span style=\"color: #008080; text-decoration-color: #008080\">     1</span> │ <span style=\"color: #008080; text-decoration-color: #008080\">     1</span> │ <span style=\"color: #008080; text-decoration-color: #008080\">    1</span> │ <span style=\"color: #008000; text-decoration-color: #008000\">▃    ▇</span> │  │\n",
              "│ │ <span style=\"color: #af87ff; text-decoration-color: #af87ff\">riots               </span> │ <span style=\"color: #008080; text-decoration-color: #008080\">  0</span> │ <span style=\"color: #008080; text-decoration-color: #008080\">    0</span> │ <span style=\"color: #008080; text-decoration-color: #008080\">  0.368</span> │ <span style=\"color: #008080; text-decoration-color: #008080\"> 0.4827</span> │ <span style=\"color: #008080; text-decoration-color: #008080\">  0</span> │ <span style=\"color: #008080; text-decoration-color: #008080\">       0</span> │ <span style=\"color: #008080; text-decoration-color: #008080\">     0</span> │ <span style=\"color: #008080; text-decoration-color: #008080\">     1</span> │ <span style=\"color: #008080; text-decoration-color: #008080\">    1</span> │ <span style=\"color: #008000; text-decoration-color: #008000\">▇    ▅</span> │  │\n",
              "│ │ <span style=\"color: #af87ff; text-decoration-color: #af87ff\">emergency           </span> │ <span style=\"color: #008080; text-decoration-color: #008080\">  0</span> │ <span style=\"color: #008080; text-decoration-color: #008080\">    0</span> │ <span style=\"color: #008080; text-decoration-color: #008080\">  0.658</span> │ <span style=\"color: #008080; text-decoration-color: #008080\"> 0.4749</span> │ <span style=\"color: #008080; text-decoration-color: #008080\">  0</span> │ <span style=\"color: #008080; text-decoration-color: #008080\">       0</span> │ <span style=\"color: #008080; text-decoration-color: #008080\">     1</span> │ <span style=\"color: #008080; text-decoration-color: #008080\">     1</span> │ <span style=\"color: #008080; text-decoration-color: #008080\">    1</span> │ <span style=\"color: #008000; text-decoration-color: #008000\">▅    ▇</span> │  │\n",
              "│ │ <span style=\"color: #af87ff; text-decoration-color: #af87ff\">cultural_change     </span> │ <span style=\"color: #008080; text-decoration-color: #008080\">  0</span> │ <span style=\"color: #008080; text-decoration-color: #008080\">    0</span> │ <span style=\"color: #008080; text-decoration-color: #008080\">  0.304</span> │ <span style=\"color: #008080; text-decoration-color: #008080\"> 0.4604</span> │ <span style=\"color: #008080; text-decoration-color: #008080\">  0</span> │ <span style=\"color: #008080; text-decoration-color: #008080\">       0</span> │ <span style=\"color: #008080; text-decoration-color: #008080\">     0</span> │ <span style=\"color: #008080; text-decoration-color: #008080\">     1</span> │ <span style=\"color: #008080; text-decoration-color: #008080\">    1</span> │ <span style=\"color: #008000; text-decoration-color: #008000\">▇    ▃</span> │  │\n",
              "│ │ <span style=\"color: #af87ff; text-decoration-color: #af87ff\">risk                </span> │ <span style=\"color: #008080; text-decoration-color: #008080\">  0</span> │ <span style=\"color: #008080; text-decoration-color: #008080\">    0</span> │ <span style=\"color: #008080; text-decoration-color: #008080\"> 0.5078</span> │ <span style=\"color: #008080; text-decoration-color: #008080\"> 0.3287</span> │ <span style=\"color: #008080; text-decoration-color: #008080\">  0</span> │ <span style=\"color: #008080; text-decoration-color: #008080\">  0.1999</span> │ <span style=\"color: #008080; text-decoration-color: #008080\">0.5686</span> │ <span style=\"color: #008080; text-decoration-color: #008080\">0.7905</span> │ <span style=\"color: #008080; text-decoration-color: #008080\">    1</span> │ <span style=\"color: #008000; text-decoration-color: #008000\">▇▅▃▅▇▇</span> │  │\n",
              "│ │ <span style=\"color: #af87ff; text-decoration-color: #af87ff\">discipline          </span> │ <span style=\"color: #008080; text-decoration-color: #008080\">  0</span> │ <span style=\"color: #008080; text-decoration-color: #008080\">    0</span> │ <span style=\"color: #008080; text-decoration-color: #008080\"> 0.6028</span> │ <span style=\"color: #008080; text-decoration-color: #008080\"> 0.3144</span> │ <span style=\"color: #008080; text-decoration-color: #008080\">  0</span> │ <span style=\"color: #008080; text-decoration-color: #008080\">  0.3392</span> │ <span style=\"color: #008080; text-decoration-color: #008080\">0.6579</span> │ <span style=\"color: #008080; text-decoration-color: #008080\">  0.89</span> │ <span style=\"color: #008080; text-decoration-color: #008080\">    1</span> │ <span style=\"color: #008000; text-decoration-color: #008000\">▃▃▃▃▅▇</span> │  │\n",
              "│ │ <span style=\"color: #af87ff; text-decoration-color: #af87ff\">edu_level           </span> │ <span style=\"color: #008080; text-decoration-color: #008080\">  0</span> │ <span style=\"color: #008080; text-decoration-color: #008080\">    0</span> │ <span style=\"color: #008080; text-decoration-color: #008080\"> 0.3676</span> │ <span style=\"color: #008080; text-decoration-color: #008080\"> 0.3149</span> │ <span style=\"color: #008080; text-decoration-color: #008080\">  0</span> │ <span style=\"color: #008080; text-decoration-color: #008080\"> 0.08836</span> │ <span style=\"color: #008080; text-decoration-color: #008080\">0.2784</span> │ <span style=\"color: #008080; text-decoration-color: #008080\">0.6536</span> │ <span style=\"color: #008080; text-decoration-color: #008080\">    1</span> │ <span style=\"color: #008000; text-decoration-color: #008000\">▇▅▃▂▃▂</span> │  │\n",
              "│ │ <span style=\"color: #af87ff; text-decoration-color: #af87ff\">mental_health       </span> │ <span style=\"color: #008080; text-decoration-color: #008080\">  0</span> │ <span style=\"color: #008080; text-decoration-color: #008080\">    0</span> │ <span style=\"color: #008080; text-decoration-color: #008080\"> 0.4358</span> │ <span style=\"color: #008080; text-decoration-color: #008080\"> 0.3182</span> │ <span style=\"color: #008080; text-decoration-color: #008080\">  0</span> │ <span style=\"color: #008080; text-decoration-color: #008080\">  0.1533</span> │ <span style=\"color: #008080; text-decoration-color: #008080\">0.3835</span> │ <span style=\"color: #008080; text-decoration-color: #008080\">0.7089</span> │ <span style=\"color: #008080; text-decoration-color: #008080\">    1</span> │ <span style=\"color: #008000; text-decoration-color: #008000\">▇▆▃▅▅▅</span> │  │\n",
              "│ │ <span style=\"color: #af87ff; text-decoration-color: #af87ff\">risk_last_op        </span> │ <span style=\"color: #008080; text-decoration-color: #008080\">  0</span> │ <span style=\"color: #008080; text-decoration-color: #008080\">    0</span> │ <span style=\"color: #008080; text-decoration-color: #008080\"> 0.3564</span> │ <span style=\"color: #008080; text-decoration-color: #008080\">  0.274</span> │ <span style=\"color: #008080; text-decoration-color: #008080\">  0</span> │ <span style=\"color: #008080; text-decoration-color: #008080\">   0.106</span> │ <span style=\"color: #008080; text-decoration-color: #008080\">  0.32</span> │ <span style=\"color: #008080; text-decoration-color: #008080\">0.5823</span> │ <span style=\"color: #008080; text-decoration-color: #008080\">    1</span> │ <span style=\"color: #008000; text-decoration-color: #008000\">▇▅▅▅▃▁</span> │  │\n",
              "│ │ <span style=\"color: #af87ff; text-decoration-color: #af87ff\">active_duty_record  </span> │ <span style=\"color: #008080; text-decoration-color: #008080\">  0</span> │ <span style=\"color: #008080; text-decoration-color: #008080\">    0</span> │ <span style=\"color: #008080; text-decoration-color: #008080\"> 0.3791</span> │ <span style=\"color: #008080; text-decoration-color: #008080\"> 0.3262</span> │ <span style=\"color: #008080; text-decoration-color: #008080\">  0</span> │ <span style=\"color: #008080; text-decoration-color: #008080\"> 0.03087</span> │ <span style=\"color: #008080; text-decoration-color: #008080\">0.3253</span> │ <span style=\"color: #008080; text-decoration-color: #008080\">0.6579</span> │ <span style=\"color: #008080; text-decoration-color: #008080\">    1</span> │ <span style=\"color: #008000; text-decoration-color: #008000\">▇▃▁▃▃▂</span> │  │\n",
              "│ │ <span style=\"color: #af87ff; text-decoration-color: #af87ff\">failure             </span> │ <span style=\"color: #008080; text-decoration-color: #008080\">  0</span> │ <span style=\"color: #008080; text-decoration-color: #008080\">    0</span> │ <span style=\"color: #008080; text-decoration-color: #008080\"> 0.6521</span> │ <span style=\"color: #008080; text-decoration-color: #008080\"> 0.2997</span> │ <span style=\"color: #008080; text-decoration-color: #008080\">  0</span> │ <span style=\"color: #008080; text-decoration-color: #008080\">  0.3851</span> │ <span style=\"color: #008080; text-decoration-color: #008080\">0.7068</span> │ <span style=\"color: #008080; text-decoration-color: #008080\">0.9368</span> │ <span style=\"color: #008080; text-decoration-color: #008080\">    1</span> │ <span style=\"color: #008000; text-decoration-color: #008000\">▂▃▃▃▃▇</span> │  │\n",
              "│ │ <span style=\"color: #af87ff; text-decoration-color: #af87ff\">x_incentives        </span> │ <span style=\"color: #008080; text-decoration-color: #008080\">  0</span> │ <span style=\"color: #008080; text-decoration-color: #008080\">    0</span> │ <span style=\"color: #008080; text-decoration-color: #008080\">   4138</span> │ <span style=\"color: #008080; text-decoration-color: #008080\">   3085</span> │ <span style=\"color: #008080; text-decoration-color: #008080\">  0</span> │ <span style=\"color: #008080; text-decoration-color: #008080\">    1504</span> │ <span style=\"color: #008080; text-decoration-color: #008080\">  3358</span> │ <span style=\"color: #008080; text-decoration-color: #008080\">  6882</span> │ <span style=\"color: #008080; text-decoration-color: #008080\">10000</span> │ <span style=\"color: #008000; text-decoration-color: #008000\">▇▆▃▃▃▃</span> │  │\n",
              "│ │ <span style=\"color: #af87ff; text-decoration-color: #af87ff\">campaign_count      </span> │ <span style=\"color: #008080; text-decoration-color: #008080\">  0</span> │ <span style=\"color: #008080; text-decoration-color: #008080\">    0</span> │ <span style=\"color: #008080; text-decoration-color: #008080\">  18.05</span> │ <span style=\"color: #008080; text-decoration-color: #008080\">  15.34</span> │ <span style=\"color: #008080; text-decoration-color: #008080\">  0</span> │ <span style=\"color: #008080; text-decoration-color: #008080\">       3</span> │ <span style=\"color: #008080; text-decoration-color: #008080\">    15</span> │ <span style=\"color: #008080; text-decoration-color: #008080\">    30</span> │ <span style=\"color: #008080; text-decoration-color: #008080\">   50</span> │ <span style=\"color: #008000; text-decoration-color: #008000\">▇▃▂▃▂▂</span> │  │\n",
              "│ │ <span style=\"color: #af87ff; text-decoration-color: #af87ff\">corruption          </span> │ <span style=\"color: #008080; text-decoration-color: #008080\">  0</span> │ <span style=\"color: #008080; text-decoration-color: #008080\">    0</span> │ <span style=\"color: #008080; text-decoration-color: #008080\">   6057</span> │ <span style=\"color: #008080; text-decoration-color: #008080\">   3191</span> │ <span style=\"color: #008080; text-decoration-color: #008080\">  0</span> │ <span style=\"color: #008080; text-decoration-color: #008080\">    3538</span> │ <span style=\"color: #008080; text-decoration-color: #008080\">  6518</span> │ <span style=\"color: #008080; text-decoration-color: #008080\">  8968</span> │ <span style=\"color: #008080; text-decoration-color: #008080\">10000</span> │ <span style=\"color: #008000; text-decoration-color: #008000\">▃▃▃▃▅▇</span> │  │\n",
              "│ │ <span style=\"color: #af87ff; text-decoration-color: #af87ff\">familial_history    </span> │ <span style=\"color: #008080; text-decoration-color: #008080\">  0</span> │ <span style=\"color: #008080; text-decoration-color: #008080\">    0</span> │ <span style=\"color: #008080; text-decoration-color: #008080\">  16.94</span> │ <span style=\"color: #008080; text-decoration-color: #008080\">  9.687</span> │ <span style=\"color: #008080; text-decoration-color: #008080\">  0</span> │ <span style=\"color: #008080; text-decoration-color: #008080\">       9</span> │ <span style=\"color: #008080; text-decoration-color: #008080\">    17</span> │ <span style=\"color: #008080; text-decoration-color: #008080\">    26</span> │ <span style=\"color: #008080; text-decoration-color: #008080\">   30</span> │ <span style=\"color: #008000; text-decoration-color: #008000\">▃▃▅▃▅▇</span> │  │\n",
              "│ │ <span style=\"color: #af87ff; text-decoration-color: #af87ff\">grievance           </span> │ <span style=\"color: #008080; text-decoration-color: #008080\">  0</span> │ <span style=\"color: #008080; text-decoration-color: #008080\">    0</span> │ <span style=\"color: #008080; text-decoration-color: #008080\">  412.8</span> │ <span style=\"color: #008080; text-decoration-color: #008080\">  281.8</span> │ <span style=\"color: #008080; text-decoration-color: #008080\">  0</span> │ <span style=\"color: #008080; text-decoration-color: #008080\">     176</span> │ <span style=\"color: #008080; text-decoration-color: #008080\">   378</span> │ <span style=\"color: #008080; text-decoration-color: #008080\"> 653.5</span> │ <span style=\"color: #008080; text-decoration-color: #008080\"> 1000</span> │ <span style=\"color: #008000; text-decoration-color: #008000\">▇▇▅▆▆▃</span> │  │\n",
              "│ │ <span style=\"color: #af87ff; text-decoration-color: #af87ff\">posting_period      </span> │ <span style=\"color: #008080; text-decoration-color: #008080\">  0</span> │ <span style=\"color: #008080; text-decoration-color: #008080\">    0</span> │ <span style=\"color: #008080; text-decoration-color: #008080\">  5.352</span> │ <span style=\"color: #008080; text-decoration-color: #008080\">  4.552</span> │ <span style=\"color: #008080; text-decoration-color: #008080\">  0</span> │ <span style=\"color: #008080; text-decoration-color: #008080\">       1</span> │ <span style=\"color: #008080; text-decoration-color: #008080\">     4</span> │ <span style=\"color: #008080; text-decoration-color: #008080\">     9</span> │ <span style=\"color: #008080; text-decoration-color: #008080\">   15</span> │ <span style=\"color: #008000; text-decoration-color: #008000\">▇▃▂▃▃▁</span> │  │\n",
              "│ │ <span style=\"color: #af87ff; text-decoration-color: #af87ff\">age                 </span> │ <span style=\"color: #008080; text-decoration-color: #008080\">  0</span> │ <span style=\"color: #008080; text-decoration-color: #008080\">    0</span> │ <span style=\"color: #008080; text-decoration-color: #008080\">  41.84</span> │ <span style=\"color: #008080; text-decoration-color: #008080\">  12.77</span> │ <span style=\"color: #008080; text-decoration-color: #008080\"> 18</span> │ <span style=\"color: #008080; text-decoration-color: #008080\">      31</span> │ <span style=\"color: #008080; text-decoration-color: #008080\">    44</span> │ <span style=\"color: #008080; text-decoration-color: #008080\">    53</span> │ <span style=\"color: #008080; text-decoration-color: #008080\">   60</span> │ <span style=\"color: #008000; text-decoration-color: #008000\">▃▅▃▅▅▇</span> │  │\n",
              "│ │ <span style=\"color: #af87ff; text-decoration-color: #af87ff\">dependents          </span> │ <span style=\"color: #008080; text-decoration-color: #008080\">  0</span> │ <span style=\"color: #008080; text-decoration-color: #008080\">    0</span> │ <span style=\"color: #008080; text-decoration-color: #008080\">  7.476</span> │ <span style=\"color: #008080; text-decoration-color: #008080\">  6.196</span> │ <span style=\"color: #008080; text-decoration-color: #008080\">  0</span> │ <span style=\"color: #008080; text-decoration-color: #008080\">       2</span> │ <span style=\"color: #008080; text-decoration-color: #008080\">     6</span> │ <span style=\"color: #008080; text-decoration-color: #008080\">    13</span> │ <span style=\"color: #008080; text-decoration-color: #008080\">   20</span> │ <span style=\"color: #008000; text-decoration-color: #008000\">▇▃▂▅▃▂</span> │  │\n",
              "│ │ <span style=\"color: #af87ff; text-decoration-color: #af87ff\">genb_location       </span> │ <span style=\"color: #008080; text-decoration-color: #008080\">  0</span> │ <span style=\"color: #008080; text-decoration-color: #008080\">    0</span> │ <span style=\"color: #008080; text-decoration-color: #008080\">  174.7</span> │ <span style=\"color: #008080; text-decoration-color: #008080\">  146.1</span> │ <span style=\"color: #008080; text-decoration-color: #008080\">  0</span> │ <span style=\"color: #008080; text-decoration-color: #008080\">      50</span> │ <span style=\"color: #008080; text-decoration-color: #008080\">   140</span> │ <span style=\"color: #008080; text-decoration-color: #008080\"> 278.2</span> │ <span style=\"color: #008080; text-decoration-color: #008080\">  500</span> │ <span style=\"color: #008000; text-decoration-color: #008000\">▇▅▃▃▂▂</span> │  │\n",
              "│ │ <span style=\"color: #af87ff; text-decoration-color: #af87ff\">injury_type         </span> │ <span style=\"color: #008080; text-decoration-color: #008080\">  0</span> │ <span style=\"color: #008080; text-decoration-color: #008080\">    0</span> │ <span style=\"color: #008080; text-decoration-color: #008080\">  1.626</span> │ <span style=\"color: #008080; text-decoration-color: #008080\">  0.996</span> │ <span style=\"color: #008080; text-decoration-color: #008080\">  0</span> │ <span style=\"color: #008080; text-decoration-color: #008080\">       1</span> │ <span style=\"color: #008080; text-decoration-color: #008080\">     2</span> │ <span style=\"color: #008080; text-decoration-color: #008080\">     2</span> │ <span style=\"color: #008080; text-decoration-color: #008080\">    3</span> │ <span style=\"color: #008000; text-decoration-color: #008000\">▃ ▂ ▇▃</span> │  │\n",
              "│ │ <span style=\"color: #af87ff; text-decoration-color: #af87ff\">n_reports           </span> │ <span style=\"color: #008080; text-decoration-color: #008080\">  0</span> │ <span style=\"color: #008080; text-decoration-color: #008080\">    0</span> │ <span style=\"color: #008080; text-decoration-color: #008080\">  49.36</span> │ <span style=\"color: #008080; text-decoration-color: #008080\">   32.3</span> │ <span style=\"color: #008080; text-decoration-color: #008080\">  0</span> │ <span style=\"color: #008080; text-decoration-color: #008080\">      20</span> │ <span style=\"color: #008080; text-decoration-color: #008080\">    45</span> │ <span style=\"color: #008080; text-decoration-color: #008080\">    78</span> │ <span style=\"color: #008080; text-decoration-color: #008080\">  100</span> │ <span style=\"color: #008000; text-decoration-color: #008000\">▇▇▅▅▆▇</span> │  │\n",
              "│ │ <span style=\"color: #af87ff; text-decoration-color: #af87ff\">genc_location       </span> │ <span style=\"color: #008080; text-decoration-color: #008080\">  0</span> │ <span style=\"color: #008080; text-decoration-color: #008080\">    0</span> │ <span style=\"color: #008080; text-decoration-color: #008080\">  190.6</span> │ <span style=\"color: #008080; text-decoration-color: #008080\">  148.1</span> │ <span style=\"color: #008080; text-decoration-color: #008080\">  0</span> │ <span style=\"color: #008080; text-decoration-color: #008080\">   54.75</span> │ <span style=\"color: #008080; text-decoration-color: #008080\"> 175.5</span> │ <span style=\"color: #008080; text-decoration-color: #008080\">   325</span> │ <span style=\"color: #008080; text-decoration-color: #008080\">  500</span> │ <span style=\"color: #008000; text-decoration-color: #008000\">▇▃▃▃▃▂</span> │  │\n",
              "│ │ <span style=\"color: #af87ff; text-decoration-color: #af87ff\">kin                 </span> │ <span style=\"color: #008080; text-decoration-color: #008080\">  0</span> │ <span style=\"color: #008080; text-decoration-color: #008080\">    0</span> │ <span style=\"color: #008080; text-decoration-color: #008080\">  12.58</span> │ <span style=\"color: #008080; text-decoration-color: #008080\">  6.459</span> │ <span style=\"color: #008080; text-decoration-color: #008080\">  0</span> │ <span style=\"color: #008080; text-decoration-color: #008080\">       7</span> │ <span style=\"color: #008080; text-decoration-color: #008080\">    14</span> │ <span style=\"color: #008080; text-decoration-color: #008080\">    19</span> │ <span style=\"color: #008080; text-decoration-color: #008080\">   20</span> │ <span style=\"color: #008000; text-decoration-color: #008000\">▃▂▃▃▃▇</span> │  │\n",
              "│ │ <span style=\"color: #af87ff; text-decoration-color: #af87ff\">absents             </span> │ <span style=\"color: #008080; text-decoration-color: #008080\">  0</span> │ <span style=\"color: #008080; text-decoration-color: #008080\">    0</span> │ <span style=\"color: #008080; text-decoration-color: #008080\">  57.72</span> │ <span style=\"color: #008080; text-decoration-color: #008080\">  31.58</span> │ <span style=\"color: #008080; text-decoration-color: #008080\">  0</span> │ <span style=\"color: #008080; text-decoration-color: #008080\">      32</span> │ <span style=\"color: #008080; text-decoration-color: #008080\">    62</span> │ <span style=\"color: #008080; text-decoration-color: #008080\">    86</span> │ <span style=\"color: #008080; text-decoration-color: #008080\">  100</span> │ <span style=\"color: #008000; text-decoration-color: #008000\">▃▃▅▃▅▇</span> │  │\n",
              "│ │ <span style=\"color: #af87ff; text-decoration-color: #af87ff\">p_incentives        </span> │ <span style=\"color: #008080; text-decoration-color: #008080\">  0</span> │ <span style=\"color: #008080; text-decoration-color: #008080\">    0</span> │ <span style=\"color: #008080; text-decoration-color: #008080\">   6535</span> │ <span style=\"color: #008080; text-decoration-color: #008080\">   3087</span> │ <span style=\"color: #008080; text-decoration-color: #008080\">  0</span> │ <span style=\"color: #008080; text-decoration-color: #008080\">    3817</span> │ <span style=\"color: #008080; text-decoration-color: #008080\">  7251</span> │ <span style=\"color: #008080; text-decoration-color: #008080\">  9394</span> │ <span style=\"color: #008080; text-decoration-color: #008080\">10000</span> │ <span style=\"color: #008000; text-decoration-color: #008000\">▂▃▂▂▃▇</span> │  │\n",
              "│ │ <span style=\"color: #af87ff; text-decoration-color: #af87ff\">pay_gap             </span> │ <span style=\"color: #008080; text-decoration-color: #008080\">  0</span> │ <span style=\"color: #008080; text-decoration-color: #008080\">    0</span> │ <span style=\"color: #008080; text-decoration-color: #008080\">   3619</span> │ <span style=\"color: #008080; text-decoration-color: #008080\">   2937</span> │ <span style=\"color: #008080; text-decoration-color: #008080\">  0</span> │ <span style=\"color: #008080; text-decoration-color: #008080\">    1102</span> │ <span style=\"color: #008080; text-decoration-color: #008080\">  3054</span> │ <span style=\"color: #008080; text-decoration-color: #008080\">  6164</span> │ <span style=\"color: #008080; text-decoration-color: #008080\">10000</span> │ <span style=\"color: #008000; text-decoration-color: #008000\">▇▅▃▃▃▂</span> │  │\n",
              "│ │ <span style=\"color: #af87ff; text-decoration-color: #af87ff\">physical_health     </span> │ <span style=\"color: #008080; text-decoration-color: #008080\">  0</span> │ <span style=\"color: #008080; text-decoration-color: #008080\">    0</span> │ <span style=\"color: #008080; text-decoration-color: #008080\">  501.8</span> │ <span style=\"color: #008080; text-decoration-color: #008080\">  298.2</span> │ <span style=\"color: #008080; text-decoration-color: #008080\">  0</span> │ <span style=\"color: #008080; text-decoration-color: #008080\">   250.8</span> │ <span style=\"color: #008080; text-decoration-color: #008080\">   527</span> │ <span style=\"color: #008080; text-decoration-color: #008080\"> 731.2</span> │ <span style=\"color: #008080; text-decoration-color: #008080\"> 1000</span> │ <span style=\"color: #008000; text-decoration-color: #008000\">▇▇▅▇▇▇</span> │  │\n",
              "│ │ <span style=\"color: #af87ff; text-decoration-color: #af87ff\">peer_based          </span> │ <span style=\"color: #008080; text-decoration-color: #008080\">  0</span> │ <span style=\"color: #008080; text-decoration-color: #008080\">    0</span> │ <span style=\"color: #008080; text-decoration-color: #008080\">  35.83</span> │ <span style=\"color: #008080; text-decoration-color: #008080\">  30.67</span> │ <span style=\"color: #008080; text-decoration-color: #008080\">  0</span> │ <span style=\"color: #008080; text-decoration-color: #008080\">       6</span> │ <span style=\"color: #008080; text-decoration-color: #008080\">  29.5</span> │ <span style=\"color: #008080; text-decoration-color: #008080\">    60</span> │ <span style=\"color: #008080; text-decoration-color: #008080\">  100</span> │ <span style=\"color: #008000; text-decoration-color: #008000\">▇▃▃▃▂▂</span> │  │\n",
              "│ │ <span style=\"color: #af87ff; text-decoration-color: #af87ff\">current_posting     </span> │ <span style=\"color: #008080; text-decoration-color: #008080\">  0</span> │ <span style=\"color: #008080; text-decoration-color: #008080\">    0</span> │ <span style=\"color: #008080; text-decoration-color: #008080\">  6.912</span> │ <span style=\"color: #008080; text-decoration-color: #008080\">  3.545</span> │ <span style=\"color: #008080; text-decoration-color: #008080\">  0</span> │ <span style=\"color: #008080; text-decoration-color: #008080\">       4</span> │ <span style=\"color: #008080; text-decoration-color: #008080\">     8</span> │ <span style=\"color: #008080; text-decoration-color: #008080\">    10</span> │ <span style=\"color: #008080; text-decoration-color: #008080\">   11</span> │ <span style=\"color: #008000; text-decoration-color: #008000\">▂▃▃▃▅▇</span> │  │\n",
              "│ │ <span style=\"color: #af87ff; text-decoration-color: #af87ff\">off_time            </span> │ <span style=\"color: #008080; text-decoration-color: #008080\">  0</span> │ <span style=\"color: #008080; text-decoration-color: #008080\">    0</span> │ <span style=\"color: #008080; text-decoration-color: #008080\">  440.5</span> │ <span style=\"color: #008080; text-decoration-color: #008080\">  311.4</span> │ <span style=\"color: #008080; text-decoration-color: #008080\">  0</span> │ <span style=\"color: #008080; text-decoration-color: #008080\">     168</span> │ <span style=\"color: #008080; text-decoration-color: #008080\">   412</span> │ <span style=\"color: #008080; text-decoration-color: #008080\"> 700.5</span> │ <span style=\"color: #008080; text-decoration-color: #008080\"> 1000</span> │ <span style=\"color: #008000; text-decoration-color: #008000\">▇▅▅▅▃▅</span> │  │\n",
              "│ │ <span style=\"color: #af87ff; text-decoration-color: #af87ff\">previously_c        </span> │ <span style=\"color: #008080; text-decoration-color: #008080\">  0</span> │ <span style=\"color: #008080; text-decoration-color: #008080\">    0</span> │ <span style=\"color: #008080; text-decoration-color: #008080\">  62.74</span> │ <span style=\"color: #008080; text-decoration-color: #008080\">  31.13</span> │ <span style=\"color: #008080; text-decoration-color: #008080\">  0</span> │ <span style=\"color: #008080; text-decoration-color: #008080\">      40</span> │ <span style=\"color: #008080; text-decoration-color: #008080\">    69</span> │ <span style=\"color: #008080; text-decoration-color: #008080\">    90</span> │ <span style=\"color: #008080; text-decoration-color: #008080\">  100</span> │ <span style=\"color: #008000; text-decoration-color: #008000\">▃▃▃▃▅▇</span> │  │\n",
              "│ │ <span style=\"color: #af87ff; text-decoration-color: #af87ff\">served_time         </span> │ <span style=\"color: #008080; text-decoration-color: #008080\">  0</span> │ <span style=\"color: #008080; text-decoration-color: #008080\">    0</span> │ <span style=\"color: #008080; text-decoration-color: #008080\">  27.14</span> │ <span style=\"color: #008080; text-decoration-color: #008080\">  15.72</span> │ <span style=\"color: #008080; text-decoration-color: #008080\">  0</span> │ <span style=\"color: #008080; text-decoration-color: #008080\">      13</span> │ <span style=\"color: #008080; text-decoration-color: #008080\">  27.5</span> │ <span style=\"color: #008080; text-decoration-color: #008080\"> 41.25</span> │ <span style=\"color: #008080; text-decoration-color: #008080\">   50</span> │ <span style=\"color: #008000; text-decoration-color: #008000\">▅▆▅▃▅▇</span> │  │\n",
              "│ └──────────────────────┴─────┴───────┴─────────┴─────────┴─────┴──────────┴────────┴────────┴───────┴────────┘  │\n",
              "│ <span style=\"font-style: italic\">                                                    string                                                    </span>  │\n",
              "│ ┏━━━━━━━━━━━━━━━━━━━━━━━━━━━━┳━━━━━━━━┳━━━━━━━━━━━━┳━━━━━━━━━━━━━━━━━━━━━━━━━━━━━━┳━━━━━━━━━━━━━━━━━━━━━━━━━━┓  │\n",
              "│ ┃<span style=\"font-weight: bold\"> column_name                </span>┃<span style=\"font-weight: bold\"> NA     </span>┃<span style=\"font-weight: bold\"> NA %       </span>┃<span style=\"font-weight: bold\"> words per row                </span>┃<span style=\"font-weight: bold\"> total words              </span>┃  │\n",
              "│ ┡━━━━━━━━━━━━━━━━━━━━━━━━━━━━╇━━━━━━━━╇━━━━━━━━━━━━╇━━━━━━━━━━━━━━━━━━━━━━━━━━━━━━╇━━━━━━━━━━━━━━━━━━━━━━━━━━┩  │\n",
              "│ │ <span style=\"color: #af87ff; text-decoration-color: #af87ff\">soldier_name              </span> │ <span style=\"color: #008080; text-decoration-color: #008080\">     0</span> │ <span style=\"color: #008080; text-decoration-color: #008080\">         0</span> │ <span style=\"color: #008080; text-decoration-color: #008080\">                           1</span> │ <span style=\"color: #008080; text-decoration-color: #008080\">                     500</span> │  │\n",
              "│ └────────────────────────────┴────────┴────────────┴──────────────────────────────┴──────────────────────────┘  │\n",
              "╰────────────────────────────────────────────────────── End ──────────────────────────────────────────────────────╯\n",
              "</pre>\n"
            ]
          },
          "metadata": {}
        }
      ]
    },
    {
      "cell_type": "code",
      "source": [
        "#saving the synthetic data to a CSV file\n",
        "synthetic_data.to_csv('soldiers_Xernia.csv', index=False)\n",
        "print(\"Synthetic data has been saved to 'soldiers_Xernia.csv'\")"
      ],
      "metadata": {
        "colab": {
          "base_uri": "https://localhost:8080/"
        },
        "id": "HUBssEz64eFa",
        "outputId": "246e1b6e-a35c-41cb-eb90-1b6475f6526d"
      },
      "execution_count": 25,
      "outputs": [
        {
          "output_type": "stream",
          "name": "stdout",
          "text": [
            "Synthetic data has been saved to 'soldiers_Xernia.csv'\n"
          ]
        }
      ]
    },
    {
      "cell_type": "code",
      "source": [],
      "metadata": {
        "id": "uGJSSKD0C7Jt"
      },
      "execution_count": null,
      "outputs": []
    }
  ]
}