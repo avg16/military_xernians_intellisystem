{
  "nbformat": 4,
  "nbformat_minor": 0,
  "metadata": {
    "colab": {
      "provenance": [],
      "collapsed_sections": [
        "Mg4KwL6lY6s-",
        "7eUpA0ULWwwZ",
        "8YQXh3pEXYe2",
        "OMasl0avXkqU",
        "LTcXINmwX5GD",
        "jNb4tTZZYuEA",
        "tTPp2hGgZHeA",
        "yf9E1EubZSgj",
        "cSoL1W1EZlmt",
        "QyzOob6zZvVV"
      ]
    },
    "kernelspec": {
      "name": "python3",
      "display_name": "Python 3"
    },
    "language_info": {
      "name": "python"
    }
  },
  "cells": [
    {
      "cell_type": "markdown",
      "source": [
        "### Importing important libraries"
      ],
      "metadata": {
        "id": "Mg4KwL6lY6s-"
      }
    },
    {
      "cell_type": "code",
      "source": [
        "import numpy as np\n",
        "from collections import defaultdict\n",
        "from scipy.stats import beta\n",
        "import matplotlib.pyplot as plt\n",
        "import seaborn as sns"
      ],
      "metadata": {
        "id": "cRwZUgK3-ysK"
      },
      "execution_count": 129,
      "outputs": []
    },
    {
      "cell_type": "markdown",
      "source": [
        "###FEATURE ENGINEERING\n",
        "### All the metrics/parameters to predict the Betrayal Likelihood of the troop of soldiers, assigning different weights to each and hence doing further analysis."
      ],
      "metadata": {
        "id": "7eUpA0ULWwwZ"
      }
    },
    {
      "cell_type": "code",
      "source": [
        "class Metrics():\n",
        "\n",
        "    def __init__(self, row):\n",
        "        self.personal_metric = 0\n",
        "        self.service_metric = 0\n",
        "        self.behavioral_metric = 0\n",
        "        self.performance_metric = 0\n",
        "        self.demographic_metric = 0\n",
        "        self.external_factor_bias = 0\n",
        "        self.betrayal_likelihood = 0\n",
        "        self.row = row\n",
        "\n",
        "    def personal(self):\n",
        "        familial_history = self.row['familial_history']\n",
        "        dependents = self.row['dependents']\n",
        "        kin = self.row['kin']\n",
        "        pay_gap = self.row['pay_gap']\n",
        "\n",
        "        self.personal_metric = pay_gap * 0.35 + familial_history * 0.25 + dependents * 0.2 + kin * 0.2\n",
        "        return self.personal_metric\n",
        "\n",
        "    def service(self):\n",
        "        risk_last_op = self.row['risk_last_op']\n",
        "        active_duty_record = self.row['active_duty_record']\n",
        "        served_time = self.row['served_time']\n",
        "        off_time = self.row['off_time']\n",
        "        current_posting = self.row['current_posting']\n",
        "        posting_period = self.row['posting_period']\n",
        "        failure = self.row['failure']\n",
        "\n",
        "        self.service_metric = (failure * 0.2 + posting_period * 0.2 + current_posting * 0.2 +\n",
        "                               off_time * 0.1 + served_time * (-0.15) +\n",
        "                               active_duty_record * 0.3 + risk_last_op * 0.2)\n",
        "        return self.service_metric\n",
        "\n",
        "    def behavioral(self):\n",
        "        corruption = self.row['corruption']\n",
        "        physical_health = self.row['physical_health']\n",
        "        injury_type = self.row['injury_type']\n",
        "        mental_health = self.row['mental_health']\n",
        "        campaign_count = self.row['campaign_count']\n",
        "        campaign_cause = self.row['campaign_cause']\n",
        "        peer_based = self.row['peer_based']\n",
        "\n",
        "        self.behavioral_metric = (0.2 * corruption + (-0.15) * physical_health + 0.2 * injury_type +\n",
        "                                  0.2 * mental_health + 0.1 * campaign_count +\n",
        "                                  0.2 * campaign_cause + 0.25 * peer_based)\n",
        "        return self.behavioral_metric\n",
        "\n",
        "    def performance(self):\n",
        "        grievance = self.row['grievance']\n",
        "        n_reports = self.row['n_reports']\n",
        "        complaint_c = self.row['complaint_c']\n",
        "        absents = self.row['absents']\n",
        "        task_sf = self.row['task_sf']\n",
        "\n",
        "        self.performance_metric = (-0.15 * grievance + 0.2 * n_reports + 0.35 * complaint_c +\n",
        "                                   0.25 * absents + 0.35 * task_sf)\n",
        "        return self.performance_metric\n",
        "\n",
        "    def demographic(self):\n",
        "        genb_location = self.row['genb_location']\n",
        "        genc_location = self.row['genc_location']\n",
        "        age = self.row['age']\n",
        "        edu_level = self.row['edu_level']\n",
        "        previously_c = self.row['previously_c']\n",
        "\n",
        "        self.demographic_metric = (-0.75 * genb_location + 0.5 * genc_location + (-0.1) * age +\n",
        "                                   (-0.15) * edu_level + 1.5 * previously_c)\n",
        "        return self.demographic_metric\n",
        "\n",
        "    def external(self):\n",
        "        attack = self.row['attack']\n",
        "        riots = self.row['riots']\n",
        "        emergency = self.row['emergency']\n",
        "        x_incentives = self.row['x_incentives']\n",
        "        p_incentives = self.row['p_incentives']\n",
        "        risk = self.row['risk']\n",
        "        cultural_change = self.row['cultural_change']\n",
        "        discipline = self.row['discipline']\n",
        "\n",
        "        self.external_factor_bias = (attack * 0.2 + riots * 0.25 + emergency * 0.2 - x_incentives * 0.2 +\n",
        "                                     p_incentives * 0.3 - risk * 0.3 + discipline * 0.2 +\n",
        "                                     cultural_change * 0.35)\n",
        "        return self.external_factor_bias\n"
      ],
      "metadata": {
        "id": "k9ffrkT-NiKD"
      },
      "execution_count": 112,
      "outputs": []
    },
    {
      "cell_type": "markdown",
      "source": [
        "### Calculating Risk-Scores for likelhood"
      ],
      "metadata": {
        "id": "8YQXh3pEXYe2"
      }
    },
    {
      "cell_type": "code",
      "source": [
        "def calculate_risk_score(personal_metric, service_metric, behavioral_metric, performance_metric, demographic_metric, external_factor_bias):\n",
        "  risk_score = 0\n",
        "  risk_score = service_metric * 0.3 + behavioral_metric * 0.25 + performance_metric * 0.2 + personal_metric * 0.15 + demographic_metric * 0.1 + external_factor_bias\n",
        "  betrayal_likelihood = 1/(1+np.exp(-risk_score))\n",
        "\n",
        "  return betrayal_likelihood"
      ],
      "metadata": {
        "id": "SwpzVdHj-W8Y"
      },
      "execution_count": 109,
      "outputs": []
    },
    {
      "cell_type": "markdown",
      "source": [
        "### Initialising a dataframe and hence making if flexible to add more entries for new soldiers."
      ],
      "metadata": {
        "id": "OMasl0avXkqU"
      }
    },
    {
      "cell_type": "code",
      "source": [
        "#dataframe of soldier's data\n",
        "import pandas as pd\n",
        "\n",
        "def create_betrayal_metrics_df():\n",
        "    columns = [\n",
        "        'soldier_name','familial_history','dependents', 'kin', 'pay_gap', 'risk_last_op', 'active_duty_record', 'served_time', 'off_time', 'current_posting', 'posting_period', 'failure','corruption', 'physical_health', 'injury_type', 'mental_health', 'campaign_count', 'campaign_cause', 'peer_based', 'grievance', 'n_reports', 'complaint_c', 'absents', 'task_sf', 'genb_location', 'genc_location', 'age', 'edu_level', 'previously_c', 'attack','riots','emergency','x_incentives','p_incentives','risk','cultural_change','discipline'\n",
        "    ]\n",
        "\n",
        "    df = pd.DataFrame(columns=columns)\n",
        "    return df\n",
        "\n",
        "def add_new_entry(df, entry_data):\n",
        "  df.loc[len(df)] = entry_data\n",
        "  return df\n",
        "\n",
        "betrayal_df = create_betrayal_metrics_df()\n",
        "\n",
        "new_soldier_metrics = {\n",
        "    'soldier_name': 'abhivansh',\n",
        "    'familial_history': 1,\n",
        "    'dependents': 2,\n",
        "    'kin': 3,\n",
        "    'pay_gap': 4,\n",
        "    'risk_last_op': 0.5,\n",
        "    'active_duty_record': 0.6,\n",
        "    'served_time': 7,\n",
        "    'off_time': 8,\n",
        "    'current_posting': 9,\n",
        "    'posting_period': 10,\n",
        "    'failure': 0.7,\n",
        "    'corruption': 7000,\n",
        "    'physical_health': 10,\n",
        "    'injury_type': 2,\n",
        "    'mental_health': 12,\n",
        "    'campaign_count': 13,\n",
        "    'campaign_cause': 1,\n",
        "    'peer_based': 14,\n",
        "    'grievance': 15,\n",
        "    'n_reports': 16,\n",
        "    'complaint_c': 1,\n",
        "    'absents': 17,\n",
        "    'task_sf': 1,\n",
        "    'genb_location': 18,\n",
        "    'genc_location': 19,\n",
        "    'age': 20,\n",
        "    'edu_level': 3,\n",
        "    'previously_c': 21,\n",
        "    'attack': 0.8,\n",
        "    'riots': 3,\n",
        "    'emergency': 0,\n",
        "    'x_incentives': 5000,\n",
        "    'p_incentives': 5000,\n",
        "    'risk': 0,\n",
        "    'cultural_change': 1,\n",
        "    'discipline': 0.5\n",
        "}\n",
        "\n",
        "betrayal_df = add_new_entry(betrayal_df, new_soldier_metrics)\n"
      ],
      "metadata": {
        "id": "-_kVZ8arAsZs"
      },
      "execution_count": 110,
      "outputs": []
    },
    {
      "cell_type": "code",
      "source": [
        "#sample dataframe\n",
        "betrayal_df"
      ],
      "metadata": {
        "colab": {
          "base_uri": "https://localhost:8080/",
          "height": 130
        },
        "id": "afyMkKOCM73X",
        "outputId": "096aeae7-f11e-416c-b2c8-08091fae4fd7"
      },
      "execution_count": 111,
      "outputs": [
        {
          "output_type": "execute_result",
          "data": {
            "text/plain": [
              "  soldier_name  familial_history  dependents  kin  pay_gap  risk_last_op  \\\n",
              "0    abhivansh                 1           2    3        4           0.5   \n",
              "\n",
              "   active_duty_record  served_time  off_time  current_posting  ...  edu_level  \\\n",
              "0                 0.6            7         8                9  ...          3   \n",
              "\n",
              "   previously_c  attack  riots  emergency  x_incentives  p_incentives  risk  \\\n",
              "0            21     0.8      3          0          5000          5000     0   \n",
              "\n",
              "   cultural_change  discipline  \n",
              "0                1         0.5  \n",
              "\n",
              "[1 rows x 37 columns]"
            ],
            "text/html": [
              "\n",
              "  <div id=\"df-65b26bc5-5635-4fa2-950b-3b0c581fb4ee\" class=\"colab-df-container\">\n",
              "    <div>\n",
              "<style scoped>\n",
              "    .dataframe tbody tr th:only-of-type {\n",
              "        vertical-align: middle;\n",
              "    }\n",
              "\n",
              "    .dataframe tbody tr th {\n",
              "        vertical-align: top;\n",
              "    }\n",
              "\n",
              "    .dataframe thead th {\n",
              "        text-align: right;\n",
              "    }\n",
              "</style>\n",
              "<table border=\"1\" class=\"dataframe\">\n",
              "  <thead>\n",
              "    <tr style=\"text-align: right;\">\n",
              "      <th></th>\n",
              "      <th>soldier_name</th>\n",
              "      <th>familial_history</th>\n",
              "      <th>dependents</th>\n",
              "      <th>kin</th>\n",
              "      <th>pay_gap</th>\n",
              "      <th>risk_last_op</th>\n",
              "      <th>active_duty_record</th>\n",
              "      <th>served_time</th>\n",
              "      <th>off_time</th>\n",
              "      <th>current_posting</th>\n",
              "      <th>...</th>\n",
              "      <th>edu_level</th>\n",
              "      <th>previously_c</th>\n",
              "      <th>attack</th>\n",
              "      <th>riots</th>\n",
              "      <th>emergency</th>\n",
              "      <th>x_incentives</th>\n",
              "      <th>p_incentives</th>\n",
              "      <th>risk</th>\n",
              "      <th>cultural_change</th>\n",
              "      <th>discipline</th>\n",
              "    </tr>\n",
              "  </thead>\n",
              "  <tbody>\n",
              "    <tr>\n",
              "      <th>0</th>\n",
              "      <td>abhivansh</td>\n",
              "      <td>1</td>\n",
              "      <td>2</td>\n",
              "      <td>3</td>\n",
              "      <td>4</td>\n",
              "      <td>0.5</td>\n",
              "      <td>0.6</td>\n",
              "      <td>7</td>\n",
              "      <td>8</td>\n",
              "      <td>9</td>\n",
              "      <td>...</td>\n",
              "      <td>3</td>\n",
              "      <td>21</td>\n",
              "      <td>0.8</td>\n",
              "      <td>3</td>\n",
              "      <td>0</td>\n",
              "      <td>5000</td>\n",
              "      <td>5000</td>\n",
              "      <td>0</td>\n",
              "      <td>1</td>\n",
              "      <td>0.5</td>\n",
              "    </tr>\n",
              "  </tbody>\n",
              "</table>\n",
              "<p>1 rows × 37 columns</p>\n",
              "</div>\n",
              "    <div class=\"colab-df-buttons\">\n",
              "\n",
              "  <div class=\"colab-df-container\">\n",
              "    <button class=\"colab-df-convert\" onclick=\"convertToInteractive('df-65b26bc5-5635-4fa2-950b-3b0c581fb4ee')\"\n",
              "            title=\"Convert this dataframe to an interactive table.\"\n",
              "            style=\"display:none;\">\n",
              "\n",
              "  <svg xmlns=\"http://www.w3.org/2000/svg\" height=\"24px\" viewBox=\"0 -960 960 960\">\n",
              "    <path d=\"M120-120v-720h720v720H120Zm60-500h600v-160H180v160Zm220 220h160v-160H400v160Zm0 220h160v-160H400v160ZM180-400h160v-160H180v160Zm440 0h160v-160H620v160ZM180-180h160v-160H180v160Zm440 0h160v-160H620v160Z\"/>\n",
              "  </svg>\n",
              "    </button>\n",
              "\n",
              "  <style>\n",
              "    .colab-df-container {\n",
              "      display:flex;\n",
              "      gap: 12px;\n",
              "    }\n",
              "\n",
              "    .colab-df-convert {\n",
              "      background-color: #E8F0FE;\n",
              "      border: none;\n",
              "      border-radius: 50%;\n",
              "      cursor: pointer;\n",
              "      display: none;\n",
              "      fill: #1967D2;\n",
              "      height: 32px;\n",
              "      padding: 0 0 0 0;\n",
              "      width: 32px;\n",
              "    }\n",
              "\n",
              "    .colab-df-convert:hover {\n",
              "      background-color: #E2EBFA;\n",
              "      box-shadow: 0px 1px 2px rgba(60, 64, 67, 0.3), 0px 1px 3px 1px rgba(60, 64, 67, 0.15);\n",
              "      fill: #174EA6;\n",
              "    }\n",
              "\n",
              "    .colab-df-buttons div {\n",
              "      margin-bottom: 4px;\n",
              "    }\n",
              "\n",
              "    [theme=dark] .colab-df-convert {\n",
              "      background-color: #3B4455;\n",
              "      fill: #D2E3FC;\n",
              "    }\n",
              "\n",
              "    [theme=dark] .colab-df-convert:hover {\n",
              "      background-color: #434B5C;\n",
              "      box-shadow: 0px 1px 3px 1px rgba(0, 0, 0, 0.15);\n",
              "      filter: drop-shadow(0px 1px 2px rgba(0, 0, 0, 0.3));\n",
              "      fill: #FFFFFF;\n",
              "    }\n",
              "  </style>\n",
              "\n",
              "    <script>\n",
              "      const buttonEl =\n",
              "        document.querySelector('#df-65b26bc5-5635-4fa2-950b-3b0c581fb4ee button.colab-df-convert');\n",
              "      buttonEl.style.display =\n",
              "        google.colab.kernel.accessAllowed ? 'block' : 'none';\n",
              "\n",
              "      async function convertToInteractive(key) {\n",
              "        const element = document.querySelector('#df-65b26bc5-5635-4fa2-950b-3b0c581fb4ee');\n",
              "        const dataTable =\n",
              "          await google.colab.kernel.invokeFunction('convertToInteractive',\n",
              "                                                    [key], {});\n",
              "        if (!dataTable) return;\n",
              "\n",
              "        const docLinkHtml = 'Like what you see? Visit the ' +\n",
              "          '<a target=\"_blank\" href=https://colab.research.google.com/notebooks/data_table.ipynb>data table notebook</a>'\n",
              "          + ' to learn more about interactive tables.';\n",
              "        element.innerHTML = '';\n",
              "        dataTable['output_type'] = 'display_data';\n",
              "        await google.colab.output.renderOutput(dataTable, element);\n",
              "        const docLink = document.createElement('div');\n",
              "        docLink.innerHTML = docLinkHtml;\n",
              "        element.appendChild(docLink);\n",
              "      }\n",
              "    </script>\n",
              "  </div>\n",
              "\n",
              "\n",
              "  <div id=\"id_8dd29ce2-272e-49b6-b748-117a9b772452\">\n",
              "    <style>\n",
              "      .colab-df-generate {\n",
              "        background-color: #E8F0FE;\n",
              "        border: none;\n",
              "        border-radius: 50%;\n",
              "        cursor: pointer;\n",
              "        display: none;\n",
              "        fill: #1967D2;\n",
              "        height: 32px;\n",
              "        padding: 0 0 0 0;\n",
              "        width: 32px;\n",
              "      }\n",
              "\n",
              "      .colab-df-generate:hover {\n",
              "        background-color: #E2EBFA;\n",
              "        box-shadow: 0px 1px 2px rgba(60, 64, 67, 0.3), 0px 1px 3px 1px rgba(60, 64, 67, 0.15);\n",
              "        fill: #174EA6;\n",
              "      }\n",
              "\n",
              "      [theme=dark] .colab-df-generate {\n",
              "        background-color: #3B4455;\n",
              "        fill: #D2E3FC;\n",
              "      }\n",
              "\n",
              "      [theme=dark] .colab-df-generate:hover {\n",
              "        background-color: #434B5C;\n",
              "        box-shadow: 0px 1px 3px 1px rgba(0, 0, 0, 0.15);\n",
              "        filter: drop-shadow(0px 1px 2px rgba(0, 0, 0, 0.3));\n",
              "        fill: #FFFFFF;\n",
              "      }\n",
              "    </style>\n",
              "    <button class=\"colab-df-generate\" onclick=\"generateWithVariable('betrayal_df')\"\n",
              "            title=\"Generate code using this dataframe.\"\n",
              "            style=\"display:none;\">\n",
              "\n",
              "  <svg xmlns=\"http://www.w3.org/2000/svg\" height=\"24px\"viewBox=\"0 0 24 24\"\n",
              "       width=\"24px\">\n",
              "    <path d=\"M7,19H8.4L18.45,9,17,7.55,7,17.6ZM5,21V16.75L18.45,3.32a2,2,0,0,1,2.83,0l1.4,1.43a1.91,1.91,0,0,1,.58,1.4,1.91,1.91,0,0,1-.58,1.4L9.25,21ZM18.45,9,17,7.55Zm-12,3A5.31,5.31,0,0,0,4.9,8.1,5.31,5.31,0,0,0,1,6.5,5.31,5.31,0,0,0,4.9,4.9,5.31,5.31,0,0,0,6.5,1,5.31,5.31,0,0,0,8.1,4.9,5.31,5.31,0,0,0,12,6.5,5.46,5.46,0,0,0,6.5,12Z\"/>\n",
              "  </svg>\n",
              "    </button>\n",
              "    <script>\n",
              "      (() => {\n",
              "      const buttonEl =\n",
              "        document.querySelector('#id_8dd29ce2-272e-49b6-b748-117a9b772452 button.colab-df-generate');\n",
              "      buttonEl.style.display =\n",
              "        google.colab.kernel.accessAllowed ? 'block' : 'none';\n",
              "\n",
              "      buttonEl.onclick = () => {\n",
              "        google.colab.notebook.generateWithVariable('betrayal_df');\n",
              "      }\n",
              "      })();\n",
              "    </script>\n",
              "  </div>\n",
              "\n",
              "    </div>\n",
              "  </div>\n"
            ],
            "application/vnd.google.colaboratory.intrinsic+json": {
              "type": "dataframe",
              "variable_name": "betrayal_df"
            }
          },
          "metadata": {},
          "execution_count": 111
        }
      ]
    },
    {
      "cell_type": "markdown",
      "source": [
        "### Function to calculate scores for all entries of a particular Dataframe, and shortlisting Potential Betrayers on the basis of a set threshold."
      ],
      "metadata": {
        "id": "LTcXINmwX5GD"
      }
    },
    {
      "cell_type": "code",
      "source": [
        "def row_calculation(dataframe):\n",
        "  all_betrayal_scores = []\n",
        "  potential_betrayers= []\n",
        "  THRESHOLD_BE=0.85\n",
        "  for name in dataframe['soldier_name']:\n",
        "\n",
        "    soldier_row = dataframe[dataframe['soldier_name'] == name].iloc[0]\n",
        "    metrics = Metrics(soldier_row)\n",
        "    personal_metric = sigmoid(metrics.personal())\n",
        "    service_metric = sigmoid(metrics.service())\n",
        "    behavioral_metric = sigmoid(metrics.behavioral())\n",
        "    performance_metric = sigmoid(metrics.performance())\n",
        "    demographic_metric = sigmoid(metrics.demographic())\n",
        "    external_factor_bias = sigmoid(metrics.external())\n",
        "\n",
        "    betrayal_likelihood = calculate_risk_score(personal_metric, service_metric, behavioral_metric, performance_metric, demographic_metric, external_factor_bias)\n",
        "\n",
        "    if betrayal_likelihood > THRESHOLD_BE:\n",
        "      potential_betrayers.append(name)\n",
        "    all_betrayal_scores.append(betrayal_likelihood)\n",
        "  return potential_betrayers"
      ],
      "metadata": {
        "id": "gMeR5mh1_4LE"
      },
      "execution_count": 138,
      "outputs": []
    },
    {
      "cell_type": "code",
      "source": [
        "def sigmoid(x):\n",
        "  return 1/(1+np.exp(-x))"
      ],
      "metadata": {
        "id": "hs-es-Awhr6H"
      },
      "execution_count": 114,
      "outputs": []
    },
    {
      "cell_type": "markdown",
      "source": [
        "### Function to add new data and calculate it's risk-scores."
      ],
      "metadata": {
        "id": "jNb4tTZZYuEA"
      }
    },
    {
      "cell_type": "code",
      "source": [
        "def new_entry_with_calc(df, entry_data):\n",
        "  df.loc[len(df)] = entry_data\n",
        "  row_calculation(df)\n",
        "  pass"
      ],
      "metadata": {
        "id": "Ouswzgr4cltC"
      },
      "execution_count": 139,
      "outputs": []
    },
    {
      "cell_type": "markdown",
      "source": [
        "### Data Analysis of Individual Soldier"
      ],
      "metadata": {
        "id": "tTPp2hGgZHeA"
      }
    },
    {
      "cell_type": "code",
      "source": [
        "def data_analysis_soldier(dataframe,name):\n",
        "\n",
        "  soldier_row = dataframe[dataframe['soldier_name'] == name].iloc[0]\n",
        "\n",
        "  metrics = Metrics(soldier_row)\n",
        "  personal_metric = sigmoid(metrics.personal())\n",
        "  service_metric = sigmoid(metrics.service())\n",
        "  behavioral_metric = sigmoid(metrics.behavioral())\n",
        "  performance_metric = sigmoid(metrics.performance())\n",
        "  demographic_metric = sigmoid(metrics.demographic())\n",
        "  external_factor_bias = sigmoid(metrics.external())\n",
        "\n",
        "  arr = [personal_metric, service_metric, behavioral_metric, performance_metric, demographic_metric, external_factor_bias]\n",
        "\n",
        "  all_metrics={'\\tPersonal records':personal_metric, '\\tService records':service_metric, '\\tBehaviour':behavioral_metric, '\\tPerformance':performance_metric,'\\tDemographic': demographic_metric, '\\tExternal Factors':external_factor_bias}\n",
        "\n",
        "  betrayal_likelihood = calculate_risk_score(personal_metric, service_metric, behavioral_metric, performance_metric, demographic_metric, external_factor_bias)\n",
        "  print(\"Risk Assessment of\",soldier_row['soldier_name'],\":\")\n",
        "  print('Likelihood of betrayal based on:')\n",
        "  for key,value in all_metrics.items():\n",
        "    print(key,\":\",value)\n",
        "  print(\"Betrayal Likelihood:\",betrayal_likelihood)\n",
        "  print(\"\\nRecent behaviours of Concern:\")\n",
        "\n",
        "  np_arr= np.array(arr)\n",
        "  max_val= np.max(np_arr)\n",
        "  for key,value in all_metrics.items():\n",
        "    if value == max_val:\n",
        "      print(key,'is/are likely to cause betrayal. Please consider helping.')\n"
      ],
      "metadata": {
        "id": "cz5XVsclHING"
      },
      "execution_count": 140,
      "outputs": []
    },
    {
      "cell_type": "code",
      "source": [
        "data_analysis_soldier(betrayal_df,'abhivansh')"
      ],
      "metadata": {
        "colab": {
          "base_uri": "https://localhost:8080/"
        },
        "id": "c2MfVwum0hq0",
        "outputId": "72bbb8a0-31a0-421d-fb41-3139179cf1b7"
      },
      "execution_count": 136,
      "outputs": [
        {
          "output_type": "stream",
          "name": "stdout",
          "text": [
            "Risk Assessment of abhivansh :\n",
            "Likelihood of betrayal based on:\n",
            "\tPersonal records : 0.9340109905087812\n",
            "\tService records : 0.9814761750367006\n",
            "\tBehaviour : 1.0\n",
            "\tPerformance : 0.997268039236989\n",
            "\tDemographic : 0.9999999999867895\n",
            "\tExternal Factors : 1.0\n",
            "Betrayal Likelihood: 0.8791067179672545\n",
            "\n",
            "Recent behaviours of Concern:\n",
            "\tBehaviour is/are likely to cause betrayal. Please consider helping.\n",
            "\tExternal Factors is/are likely to cause betrayal. Please consider helping.\n"
          ]
        }
      ]
    },
    {
      "cell_type": "markdown",
      "source": [
        "### Synthetic Data Initialisation & Calculations"
      ],
      "metadata": {
        "id": "yf9E1EubZSgj"
      }
    },
    {
      "cell_type": "code",
      "source": [
        "syn_data = pd.read_csv(\"/content/soldier_betrayal_metrics.csv\")"
      ],
      "metadata": {
        "id": "bUsOACL31tuW"
      },
      "execution_count": 141,
      "outputs": []
    },
    {
      "cell_type": "code",
      "source": [
        "row_calculation(syn_data)"
      ],
      "metadata": {
        "colab": {
          "base_uri": "https://localhost:8080/"
        },
        "id": "fnUtQ7AwLMAv",
        "outputId": "b56f1ac5-ba5f-4a1b-db23-2f2dd2b0bee8"
      },
      "execution_count": 142,
      "outputs": [
        {
          "output_type": "stream",
          "name": "stderr",
          "text": [
            "<ipython-input-114-bb43d9876711>:2: RuntimeWarning: overflow encountered in exp\n",
            "  return 1/(1+np.exp(-x))\n"
          ]
        },
        {
          "output_type": "execute_result",
          "data": {
            "text/plain": [
              "['soldier_0',\n",
              " 'soldier_4',\n",
              " 'soldier_16',\n",
              " 'soldier_20',\n",
              " 'soldier_24',\n",
              " 'soldier_31',\n",
              " 'soldier_36',\n",
              " 'soldier_37',\n",
              " 'soldier_41',\n",
              " 'soldier_46',\n",
              " 'soldier_50',\n",
              " 'soldier_70',\n",
              " 'soldier_71',\n",
              " 'soldier_76',\n",
              " 'soldier_77',\n",
              " 'soldier_78',\n",
              " 'soldier_81',\n",
              " 'soldier_86',\n",
              " 'soldier_93',\n",
              " 'soldier_95',\n",
              " 'soldier_96',\n",
              " 'soldier_97',\n",
              " 'soldier_98',\n",
              " 'soldier_102',\n",
              " 'soldier_105',\n",
              " 'soldier_106',\n",
              " 'soldier_117',\n",
              " 'soldier_120',\n",
              " 'soldier_134',\n",
              " 'soldier_137',\n",
              " 'soldier_139',\n",
              " 'soldier_140',\n",
              " 'soldier_147',\n",
              " 'soldier_149',\n",
              " 'soldier_155',\n",
              " 'soldier_157',\n",
              " 'soldier_159',\n",
              " 'soldier_162',\n",
              " 'soldier_174',\n",
              " 'soldier_180',\n",
              " 'soldier_181',\n",
              " 'soldier_188',\n",
              " 'soldier_189',\n",
              " 'soldier_195',\n",
              " 'soldier_196',\n",
              " 'soldier_199',\n",
              " 'soldier_211',\n",
              " 'soldier_217',\n",
              " 'soldier_219',\n",
              " 'soldier_220',\n",
              " 'soldier_225',\n",
              " 'soldier_228',\n",
              " 'soldier_229',\n",
              " 'soldier_234',\n",
              " 'soldier_235',\n",
              " 'soldier_236',\n",
              " 'soldier_250',\n",
              " 'soldier_251',\n",
              " 'soldier_253',\n",
              " 'soldier_255',\n",
              " 'soldier_264',\n",
              " 'soldier_266',\n",
              " 'soldier_268',\n",
              " 'soldier_269',\n",
              " 'soldier_285',\n",
              " 'soldier_289',\n",
              " 'soldier_292',\n",
              " 'soldier_299',\n",
              " 'soldier_305',\n",
              " 'soldier_307',\n",
              " 'soldier_310',\n",
              " 'soldier_313',\n",
              " 'soldier_317',\n",
              " 'soldier_318',\n",
              " 'soldier_319',\n",
              " 'soldier_322',\n",
              " 'soldier_323',\n",
              " 'soldier_328',\n",
              " 'soldier_331',\n",
              " 'soldier_333',\n",
              " 'soldier_339',\n",
              " 'soldier_344',\n",
              " 'soldier_347',\n",
              " 'soldier_349',\n",
              " 'soldier_354',\n",
              " 'soldier_356',\n",
              " 'soldier_363',\n",
              " 'soldier_368',\n",
              " 'soldier_369',\n",
              " 'soldier_373',\n",
              " 'soldier_375',\n",
              " 'soldier_394',\n",
              " 'soldier_396',\n",
              " 'soldier_399',\n",
              " 'soldier_415',\n",
              " 'soldier_420',\n",
              " 'soldier_427',\n",
              " 'soldier_428',\n",
              " 'soldier_429',\n",
              " 'soldier_436',\n",
              " 'soldier_437',\n",
              " 'soldier_440',\n",
              " 'soldier_445',\n",
              " 'soldier_446',\n",
              " 'soldier_458',\n",
              " 'soldier_463',\n",
              " 'soldier_478',\n",
              " 'soldier_481',\n",
              " 'soldier_490',\n",
              " 'soldier_493',\n",
              " 'soldier_496',\n",
              " 'soldier_497',\n",
              " 'soldier_498']"
            ]
          },
          "metadata": {},
          "execution_count": 142
        }
      ]
    },
    {
      "cell_type": "markdown",
      "source": [
        "### Two contrasting instances for Potential Betrayals"
      ],
      "metadata": {
        "id": "cSoL1W1EZlmt"
      }
    },
    {
      "cell_type": "code",
      "source": [
        "data_analysis_soldier(syn_data, 'soldier_429')"
      ],
      "metadata": {
        "colab": {
          "base_uri": "https://localhost:8080/"
        },
        "id": "1-1lZzPwQw8q",
        "outputId": "a2d37bd3-7c8d-44fe-ebd3-a07df665024d"
      },
      "execution_count": 126,
      "outputs": [
        {
          "output_type": "stream",
          "name": "stdout",
          "text": [
            "Risk Assessment of soldier_429 :\n",
            "Likelihood of betrayal based on:\n",
            "\tPersonal records : 1.0\n",
            "\tService records : 1.0\n",
            "\tBehaviour : 1.0\n",
            "\tPerformance : 0.9999999999963998\n",
            "\tDemographic : 3.784906243060045e-12\n",
            "\tExternal Factors : 1.0\n",
            "Betrayal Likelihood: 0.8698915256369635\n",
            "\n",
            "Recent behaviours of Concern:\n",
            "\tPersonal records is/are likely to cause betrayal. Please consider helping.\n",
            "\tService records is/are likely to cause betrayal. Please consider helping.\n",
            "\tBehaviour is/are likely to cause betrayal. Please consider helping.\n",
            "\tExternal Factors is/are likely to cause betrayal. Please consider helping.\n"
          ]
        }
      ]
    },
    {
      "cell_type": "code",
      "source": [
        "data_analysis_soldier(syn_data, 'soldier_1')"
      ],
      "metadata": {
        "colab": {
          "base_uri": "https://localhost:8080/"
        },
        "id": "p-c1NwSZRHH_",
        "outputId": "c6a92c95-7286-43a3-962b-e8f76e85ff53"
      },
      "execution_count": 128,
      "outputs": [
        {
          "output_type": "stream",
          "name": "stdout",
          "text": [
            "Risk Assessment of soldier_1 :\n",
            "Likelihood of betrayal based on:\n",
            "\tPersonal records : 1.0\n",
            "\tService records : 1.0\n",
            "\tBehaviour : 1.0\n",
            "\tPerformance : 0.9999982396567868\n",
            "\tDemographic : 1.0\n",
            "\tExternal Factors : 3.7690763969586906e-273\n",
            "Betrayal Likelihood: 0.7310585094091028\n",
            "\n",
            "Recent behaviours of Concern:\n",
            "\tPersonal records is/are likely to cause betrayal. Please consider helping.\n",
            "\tService records is/are likely to cause betrayal. Please consider helping.\n",
            "\tBehaviour is/are likely to cause betrayal. Please consider helping.\n",
            "\tDemographic is/are likely to cause betrayal. Please consider helping.\n"
          ]
        }
      ]
    },
    {
      "cell_type": "markdown",
      "source": [
        "### Ranking"
      ],
      "metadata": {
        "id": "QyzOob6zZvVV"
      }
    },
    {
      "cell_type": "markdown",
      "source": [
        "For ranking of soldiers for their betrayal likelihood, given we have already listed out the potential betrayers on the basis of their betrayal scores by different metric weights, we just need to sort their scores, via $sort()$ function in Python. This will give us the sorted list of Soldiers, hence providing us with complete overview of the condition."
      ],
      "metadata": {
        "id": "7ZW7oD2xV0f6"
      }
    }
  ]
}